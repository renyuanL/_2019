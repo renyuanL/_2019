{
 "cells": [
  {
   "cell_type": "markdown",
   "metadata": {
    "colab_type": "text",
    "id": "view-in-github"
   },
   "source": [
    "<a \n",
    "href=   \"https://colab.research.google.com/github/renyuanL/_2019/blob/master/Ch03_SpectrumRepresentation.ipynb\" \n",
    "target= \"_parent\">\n",
    "\n",
    "<img src= \"https://colab.research.google.com/assets/colab-badge.svg\" \n",
    "alt=      \"Open In Colab\"/>\n",
    "\n",
    "</a>\n"
   ]
  },
  {
   "cell_type": "markdown",
   "metadata": {
    "colab_type": "text",
    "id": "FSjSy_VcKhuu"
   },
   "source": [
    "## Dsp 1st\n",
    "### Ch03  Spectrum Representation\n",
    "\n",
    "http://dspfirst.gatech.edu/database/?d=examples&chap=3"
   ]
  },
  {
   "cell_type": "markdown",
   "metadata": {
    "colab_type": "text",
    "id": "tz5Q8y4BKhuw"
   },
   "source": []
  },
  {
   "cell_type": "markdown",
   "metadata": {
    "colab_type": "text",
    "id": "DYaVrzxtKhuw"
   },
   "source": [
    "\n",
    "# Sum of sinusoids with 【the same frequency $\\omega_0$】 \n",
    "\n",
    "$\n",
    "𝑥(𝑡)= \\sum_{𝑘=1}^𝑁 𝐴_𝑘  cos⁡( \\omega_0 𝑡 + \\phi_𝑘)\n",
    "$\n",
    "\n",
    "----\n",
    "\n",
    "\n",
    "## Phasor Addition Rule\n",
    "\n",
    "----\n",
    "\n",
    "$\n",
    "𝑥(𝑡) = 𝐴_0  cos⁡( \\omega_0 𝑡 + \\phi_0)\n",
    "$\n",
    "\n",
    "----\n",
    "where,\n",
    "$\n",
    "\\begin{cases}\n",
    "X = \\sum_{𝑘=1}^𝑁 𝐴_𝑘  cos⁡(\\phi_𝑘)\n",
    "\\\\\n",
    "Y = \\sum_{𝑘=1}^𝑁 𝐴_𝑘  sin⁡(\\phi_𝑘)\n",
    "\\end{cases}\n",
    "$\n",
    "\n",
    "and then,\n",
    "$\n",
    "\\begin{cases}\n",
    "𝐴_0 = \\sqrt{X^2+Y^2}\n",
    "\\\\\n",
    "\\phi_0= arctan2(Y,X) = \n",
    "\\begin{cases} \n",
    "tan^{-1}(\\frac{Y}{X}) , \\quad & if X>0,   & \\phi_0 \\in (-\\pi/2, \\pi/2)\n",
    "\\\\\n",
    "tan^{-1}(\\frac{Y}{X}) -\\pi,   & if X<0, Y<0,   & \\phi_0 \\in (-\\pi, -\\pi/2)\n",
    "\\\\\n",
    "tan^{-1}(\\frac{Y}{X}) +\\pi,   & if X<0, Y>0,   & \\phi_0 \\in (\\pi/2, \\pi)\n",
    "\\end{cases}\n",
    "\\end{cases}\n",
    "$\n",
    "\n",
    "\n",
    "\n",
    "# Sum of sinusoids with 【different frequency】 \n",
    "\n",
    "## the Spectrum Representation\n",
    "\n",
    "----\n",
    "\n",
    "$$\n",
    "𝑥(𝑡)=\\sum_{𝑘=1}^𝑁 𝐴_𝑘  cos⁡( \\omega_𝑘 𝑡 + \\phi_𝑘)\n",
    "$$\n",
    "\n",
    "----\n",
    "\n",
    "\n"
   ]
  },
  {
   "cell_type": "markdown",
   "metadata": {
    "colab_type": "text",
    "id": "H1yU5rx9LIrD"
   },
   "source": [
    "\n",
    "![](http://dspfirst.gatech.edu/archives/examDSP2v2e/exam3_1.png)\n",
    "\n",
    "\n",
    "\n",
    "\n",
    "\n"
   ]
  },
  {
   "cell_type": "markdown",
   "metadata": {
    "colab_type": "text",
    "id": "AQYdjuZcLPMe"
   },
   "source": [
    "\n"
   ]
  },
  {
   "cell_type": "markdown",
   "metadata": {
    "colab_type": "text",
    "id": "U6OBRa6aKhux"
   },
   "source": []
  },
  {
   "cell_type": "markdown",
   "metadata": {
    "colab_type": "text",
    "id": "lz0nIq0zKhux"
   },
   "source": []
  },
  {
   "cell_type": "code",
   "execution_count": 0,
   "metadata": {
    "colab": {},
    "colab_type": "code",
    "id": "GfyYK9heKhuy"
   },
   "outputs": [],
   "source": []
  }
 ],
 "metadata": {
  "colab": {
   "include_colab_link": true,
   "name": "Ch03_SpectrumRepresentation.ipynb",
   "provenance": [],
   "version": "0.3.2"
  },
  "kernelspec": {
   "display_name": "Python 3",
   "language": "python",
   "name": "python3"
  },
  "language_info": {
   "codemirror_mode": {
    "name": "ipython",
    "version": 3
   },
   "file_extension": ".py",
   "mimetype": "text/x-python",
   "name": "python",
   "nbconvert_exporter": "python",
   "pygments_lexer": "ipython3",
   "version": "3.6.5"
  }
 },
 "nbformat": 4,
 "nbformat_minor": 1
}
