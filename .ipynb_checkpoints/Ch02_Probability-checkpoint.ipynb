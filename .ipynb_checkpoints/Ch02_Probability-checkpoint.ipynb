{
 "cells": [
  {
   "cell_type": "markdown",
   "metadata": {},
   "source": [
    "# Chapter 2:  Probability"
   ]
  },
  {
   "cell_type": "markdown",
   "metadata": {},
   "source": [
    "## Contents:\n",
    "--------------\n",
    "\n",
    "### 2.1  Sample Space \n",
    "### 2.2  Event \n",
    "### 2.3  Counting Sample Points \n",
    "### 2.4  Probability of an Event \n",
    "### 2.5  Additive Rules \n",
    "### 2.6  Conditional Probability, Independence, and the Product Rule \n",
    "### 2.7  Bayes’ Rule "
   ]
  },
  {
   "cell_type": "markdown",
   "metadata": {},
   "source": [
    "### 2.1 Sample Space \n",
    "\n",
    "* Statisticians use the word 【experiment】\n",
    "  - to describe any process \n",
    "  - that generates a set of data. \n",
    "\n",
    "* A simple example of a statistical experiment \n",
    "  - is the 【tossing of a coin】. \n",
    "* In this experiment, there are only two possible outcomes, \n",
    "  - 【heads or tails】. \n",
    "\n",
    "* Another experiment might be the launching of a missile and observing of its velocity at specified times. \n",
    "\n",
    "* The opinions of voters concerning a new sales tax can also be considered as 【observations】 of an experiment. \n",
    "* We are particularly interested in the observations obtained \n",
    "  - by 【repeating】 the experiment several times. \n",
    "\n",
    "* In most cases, the 【outcomes】 will depend on 【chance】 and, therefore, \n",
    "  - cannot be predicted with certainty. \n",
    "* If a chemist runs an analysis several times under the same conditions, \n",
    "  - he or she will obtain different 【measurements】, \n",
    "  - indicating an element of chance in the experimental procedure. \n",
    "\n",
    "* Even when a coin is tossed repeatedly, \n",
    "  - we cannot be certain that a given toss will result in a head. \n",
    "* However, we know the 【entire set】 \n",
    "  - of possibilities for each toss."
   ]
  },
  {
   "cell_type": "markdown",
   "metadata": {},
   "source": [
    "Definition 2.1:  【sample space】\n",
    "===========\n",
    "\n",
    "* The 【set】 of all possible outcomes \n",
    "  - of a 【statistical experiment】 \n",
    "* is called the 【sample space】 \n",
    "  - and is represented by the symbol 【S】."
   ]
  },
  {
   "cell_type": "markdown",
   "metadata": {},
   "source": [
    "## Coin flipping\n",
    "\n",
    "* the sample space S, \n",
    "* of possible outcomes when a coin is flipped, \n",
    "* may be written as\n",
    "$ \n",
    "  S = \\{H, T\\} \n",
    "$, \n",
    "* where H and T correspond to heads and tails, \n",
    "* respectively.\n",
    "\n",
    "https://en.wikipedia.org/wiki/File:Coin_Toss_(3635981474).jpg\n",
    "\n",
    "https://en.wikipedia.org/wiki/Coin_flipping\n"
   ]
  },
  {
   "cell_type": "markdown",
   "metadata": {},
   "source": [
    "## Example 2.1: \n",
    "\n",
    "* Consider the experiment of 【tossing a die】. \n",
    "* \n",
    "* If we are interested in the 【number】 \n",
    "* that shows on the top face, \n",
    "* the sample space is\n",
    "\n",
    "* \n",
    "$\n",
    "S_1 = \\{ 1, 2, 3, 4, 5, 6 \\}.\n",
    "$\n",
    "\n",
    "* \n",
    "* If we are interested only in whether the number is 'even' (奇數) or 'odd'(偶數), \n",
    "* the sample space is simply\n",
    "\n",
    "* \n",
    "$\n",
    "S_2 = \\{ 'even', 'odd' \\}.\n",
    "$\n",
    "\n",
    "* \n",
    "$\n",
    "S_3 = \\{ '奇', '偶' \\}.\n",
    "$\n"
   ]
  },
  {
   "cell_type": "markdown",
   "metadata": {},
   "source": [
    "Dice \n",
    "====\n",
    "* \n",
    "* (singular die or dice;[1] \n",
    "* from Old French déh; \n",
    "* from Latin datum \n",
    "* \"something which is given or played\"[2])\n",
    "* \n",
    "* are small throwable objects \n",
    "* that can rest in multiple positions, \n",
    "* used for generating random numbers. \n",
    "* \n",
    "* Dice are suitable as gambling devices \n",
    "* for games like craps \n",
    "* and are also used in non-gambling tabletop games.\n",
    "\n",
    "https://en.wikipedia.org/wiki/Dice\n",
    "\n",
    "\n",
    "骰子\n",
    "====\n",
    "* 骰（ㄊㄡˊ）子，\n",
    "* 亦作 色（ㄕㄞˇ）子，\n",
    "* 通常作為桌上遊戲的小道具，\n",
    "* 是古老的賭具之一。\n",
    "* 骰子也是容易製作和取得的亂數產生器。\n",
    "\n",
    "https://zh.wikipedia.org/wiki/%E9%AA%B0%E5%AD%90\n",
    "\n"
   ]
  },
  {
   "attachments": {
    "image.png": {
     "image/png": "[encoded data removed]"
    }
   },
   "cell_type": "markdown",
   "metadata": {},
   "source": [
    "【Tree diagram】\n",
    "==============\n",
    "\n",
    "* Example 2.1 illustrates the fact \n",
    "* that more than one sample space \n",
    "* can be used to describe the outcomes \n",
    "* of an experiment. \n",
    "* \n",
    "* In this case, \n",
    "* S1 provides more information \n",
    "* than S2. \n",
    "* \n",
    "* If we know which element in S1 occurs, \n",
    "* we can tell which outcome in S2 occurs; \n",
    "* \n",
    "* however, a knowledge of what happens in S2 \n",
    "* is of little help \n",
    "* in determining which element in S1 occurs. \n",
    "* \n",
    "* In general, it is desirable \n",
    "* to use the sample space \n",
    "* that gives the most information \n",
    "* concerning the outcomes of the experiment. \n",
    "* \n",
    "* In some experiments, \n",
    "* it is helpful to 【list the elements】 \n",
    "* of the sample space \n",
    "* 【systematically】 \n",
    "* by means of a 【tree diagram】.\n",
    "* \n",
    "* *Figure 2.1*: Tree diagram for Example 2.2.\n",
    "![image.png](attachment:image.png)\n",
    "\n"
   ]
  },
  {
   "cell_type": "markdown",
   "metadata": {},
   "source": [
    "Example 2.2: \n",
    "==========\n",
    "\n",
    "* An experiment consists of \n",
    "  1. flipping a coin and then flipping it a second time if a head occurs. \n",
    "  1. If a tail occurs on the first flip, then a die is tossed once. \n",
    "* \n",
    "* To list the elements of the sample space providing the most information, \n",
    "* we construct the tree diagram of Figure 2.1. \n",
    "* \n",
    "* The various paths along the branches of the tree give the distinct sample points. \n",
    "* Starting with the top left branch and moving to the right along the first path, \n",
    "* we get the sample point HH, indicating the possibility that heads occurs on two successive flips of the coin. \n",
    "* \n",
    "* Likewise, the sample point T3 indicates the possibility that the coin will show a tail followed by a 3 on the toss of the die. \n",
    "* By proceeding along all paths, \n",
    "* we see that the sample space is \n",
    "* \n",
    "* S = {HH, HT, T1, T2, T3, T4, T5, T6}."
   ]
  },
  {
   "attachments": {
    "image.png": {
     "image/png": "[encoded data removed]"
    }
   },
   "cell_type": "markdown",
   "metadata": {},
   "source": [
    "![image.png](attachment:image.png)\n"
   ]
  },
  {
   "cell_type": "markdown",
   "metadata": {},
   "source": [
    "Some examples of sample space\n",
    "===========================\n",
    "\n",
    "\n",
    "* S = {DDD, DDN, DND, DNN, NDD, NDN, NND, NNN}.\n",
    "* \n",
    "* S = {x | x is a city with a population over 1 million},\n",
    "* \n",
    "* \n",
    "$S = \\{ (x, y) | x^2 + y^2 ≤ 4\\} .$\n"
   ]
  },
  {
   "cell_type": "markdown",
   "metadata": {},
   "source": []
  },
  {
   "cell_type": "markdown",
   "metadata": {},
   "source": []
  },
  {
   "cell_type": "markdown",
   "metadata": {},
   "source": [
    "### 2.2 Events \n",
    "\n",
    "* For any given 【experiment】, \n",
    "* we may be interested in the occurrence of certain 【event】 \n",
    "* rather than in the occurrence of a specific 【element】 \n",
    "* in the 【sample space】. \n",
    "* \n",
    "* For instance, we may be interested in the event A \n",
    "* that the outcome when a die is tossed is divisible by 3. \n",
    "  - \n",
    "  - sample space S= *'a die is tossed'*\n",
    "  - an event A= *'the outcome is divisible by 3 '*\n",
    "* \n",
    "* This will occur if the outcome is an element of the subset A = {3, 6} of the sample space $S_1$ in Example 2.1. \n",
    "* \n",
    "* \n",
    "* To each event, \n",
    "* we assign a 【collection of sample points】, \n",
    "* which constitute a 【subset】 of the sample space. \n",
    "* \n",
    "* That subset represents all of the elements for which the event is true.\n",
    "* "
   ]
  },
  {
   "attachments": {
    "image.png": {
     "image/png": "[encoded data removed]"
    }
   },
   "cell_type": "markdown",
   "metadata": {},
   "source": [
    "Definition 2.2:  【event】 \n",
    "===========\n",
    "\n",
    "* An event is a 【subset】 \n",
    "* of a sample space.\n",
    "\n",
    "\n",
    "![image.png](attachment:image.png)"
   ]
  },
  {
   "attachments": {
    "image.png": {
     "image/png": "[encoded data removed]"
    }
   },
   "cell_type": "markdown",
   "metadata": {},
   "source": [
    "Example 2.4: \n",
    "==========\n",
    "\n",
    "* Given the sample space S\n",
    "  -  \n",
    "$\n",
    "S = \\{ t \\ | \\ t ≥ 0 \\}, \n",
    "$\n",
    "* where t is the life in years of a certain electronic component, \n",
    "* \n",
    "* then the event A \n",
    "* that the component fails before the end of the fifth year \n",
    "* is the subset \n",
    "  - \n",
    "$\n",
    "A = \\{ t \\ | \\ 0 ≤ t < 5 \\}.\n",
    "$\n",
    "\n",
    "![image.png](attachment:image.png)"
   ]
  },
  {
   "cell_type": "markdown",
   "metadata": {},
   "source": [
    "**S** ; **Φ**\n",
    "====\n",
    "### a certain event  and an impossible event, \n",
    "\n",
    " \n",
    "* an event may be a subset that includes the entire sample space S \n",
    "  - a certain event, **S**\n",
    "\n",
    "* or a subset of S called the null set and denoted by the symbol Φ, \n",
    "* which contains no elements at all.\n",
    "  - an impossible event, **Φ**\n",
    "\n"
   ]
  },
  {
   "cell_type": "markdown",
   "metadata": {},
   "source": [
    "Definition 2.3:  【complement 】\n",
    "====\n",
    "\n",
    "* The complement of an event A \n",
    "* with respect to S \n",
    "* is the subset of all elements of S \n",
    "* that are not in A. \n",
    "* We denote the complement of A by the symbol 【A'】."
   ]
  },
  {
   "cell_type": "markdown",
   "metadata": {},
   "source": [
    "Definition 2.4: 【intersection】\n",
    "===========\n",
    "* The intersection of two events A and B, \n",
    "* denoted by the symbol 【A ∩ B】, \n",
    "* is the event containing all elements \n",
    "* that are common to A and B."
   ]
  },
  {
   "cell_type": "markdown",
   "metadata": {},
   "source": [
    "Definition 2.5: 【mutually exclusive, disjoint】\n",
    "====\n",
    "\n",
    "* Two events A and B \n",
    "* are mutually exclusive, or disjoint, \n",
    "* if A ∩ B = Φ, \n",
    "* that is, if A and B have no elements in common.\n"
   ]
  },
  {
   "cell_type": "markdown",
   "metadata": {},
   "source": [
    "Definition 2.6: 【union】\n",
    "====\n",
    "* The union of the two events A and B, \n",
    "* denoted by the symbol 【A∪B】, \n",
    "* is the event containing all the elements \n",
    "* that belong to A or B or both.\n"
   ]
  },
  {
   "attachments": {
    "image.png": {
     "image/png": "[encoded data removed]"
    }
   },
   "cell_type": "markdown",
   "metadata": {},
   "source": [
    "Venn diagram\n",
    "====\n",
    "\n",
    "Events represented by various regions\n",
    "====\n",
    "\n",
    "\n",
    "![image.png](attachment:image.png)\n",
    "\n",
    "* S= {1,2,3,4,5,6,7,8}\n",
    "* $\\Phi$= { }\n",
    "* \n",
    "* A= {1,2,4,7}\n",
    "* B= {1,2,3,6}\n",
    "* C= {1,3,4,6}\n",
    "* \n",
    "* A∩B=   {1,2}\n",
    "* A∩C=   {1,4}\n",
    "* B∩C=   {1,3}\n",
    "* A∩B∩C= {1}\n",
    "* \n",
    "* A∪B=   {1, 2, 3, 4, 6, 7}\n",
    "* A∪C=   {1, 2, 3, 4, 5, 7}\n",
    "* B∪C=   {1, 2, 3, 4, 5, 6}\n",
    "* A∪B∪C= {1, 2, 3, 4, 5, 6, 7}\n",
    "* (A∪B∪C)'= {8}\n",
    "* \n",
    "* A-B     =  A ∩ B'=     {4, 7}\n",
    "* (A∪B)-C = (A∪B) ∩ C' = {2, 6, 7}\n",
    "* \n",
    "\n"
   ]
  },
  {
   "cell_type": "markdown",
   "metadata": {},
   "source": [
    "Some Set Equations (Equality)\n",
    "====\n",
    "\n",
    "* 01. A ∩ φ = φ\n",
    "* 02. A ∪ φ = A\n",
    "* 03. A ∩ A' = φ\n",
    "* 04. A ∪ A' = S\n",
    "* 05. S' = φ\n",
    "* 06. φ' = S\n",
    "* 07. (A')' = A\n",
    "* \n",
    "* 08. (A ∩ B)' = A' ∪ B'\n",
    "* 09. (A ∪ B)' = A' ∩ B'\n",
    "* \n",
    "* 10. (A ∪ B ∪ C)' = ??\n",
    "* = (A ∪ B)' ∩ C' \n",
    "  = (A' ∩ B') ∩ C' \n",
    "  = A' ∩ B' ∩ C'\n",
    "* \n",
    "* 11. n(A ∪ B) = n(A) + n(B) - n(A∩B)\n",
    "* \n",
    "* 12. n(A ∪ B ∪ C) = ??\n",
    "* "
   ]
  },
  {
   "cell_type": "code",
   "execution_count": null,
   "metadata": {},
   "outputs": [],
   "source": []
  },
  {
   "cell_type": "markdown",
   "metadata": {},
   "source": [
    "## Exercises "
   ]
  },
  {
   "cell_type": "markdown",
   "metadata": {},
   "source": [
    "#### 2.5 \n",
    "\n",
    "* An experiment consists of tossing a die \n",
    "* and then flipping a coin once if the number on the die is even. \n",
    "\n",
    "* If the number on the die is odd, \n",
    "* the coin is flipped twice. \n",
    "\n",
    "* Using the notation 4H, for example, to denote the outcome \n",
    "* that the die comes up 4 \n",
    "* and then the coin comes up heads, \n",
    "\n",
    "* and 3HT to denote the outcome \n",
    "* that the die comes up 3 followed \n",
    "* by a head \n",
    "* and then a tail on the coin, \n",
    "\n",
    "* construct a tree diagram \n",
    "* to show the 18 elements \n",
    "* of the sample space S.\n",
    "\n",
    "#### 2.9 \n",
    "\n",
    "* For the sample space of Exercise 2.5,\n",
    "* \n",
    "* (a) list the elements corresponding to the event A that a number less than 3 occurs on the die;\n",
    "* (b) list the elements corresponding to the event B that two tails occur;\n",
    "* (c) list the elements corresponding to the event A';\n",
    "* (d) list the elements corresponding to the event A'∩B;\n",
    "* (e) list the elements corresponding to the event A∪B.\n"
   ]
  },
  {
   "cell_type": "markdown",
   "metadata": {},
   "source": [
    "#### 2.10 \n",
    "\n",
    "* An engineering firm is hired to determine \n",
    "* if certain waterways in Virginia are safe for fishing. \n",
    "* \n",
    "* Samples are taken from three rivers. \n",
    "* (a) List the elements of a sample space S, using the letters F for safe to fish and N for not safe to fish. \n",
    "* (b) List the elements of S corresponding to event E that at least two of the rivers are safe for fishing. \n",
    "* (c) Define an event that has as its elements the points {FFF,NFF,FFN,NFN}."
   ]
  },
  {
   "cell_type": "markdown",
   "metadata": {},
   "source": [
    "# Set operation in Python\n"
   ]
  },
  {
   "cell_type": "code",
   "execution_count": 1,
   "metadata": {},
   "outputs": [
    {
     "data": {
      "text/plain": [
       "(10, 5, 0)"
      ]
     },
     "execution_count": 1,
     "metadata": {},
     "output_type": "execute_result"
    }
   ],
   "source": [
    "S= {1,2,3,4,5,6,7,8,9,0}\n",
    "A= {1,2,3,4,5}\n",
    "B= {4,5,6,7}\n",
    "C= {1,3,5,7,9}\n",
    "D= {1,3,5}\n",
    "Φ= {}\n",
    "\n",
    "len(S), len(A), len(Φ)"
   ]
  },
  {
   "cell_type": "code",
   "execution_count": 2,
   "metadata": {},
   "outputs": [
    {
     "data": {
      "text/plain": [
       "(True, False)"
      ]
     },
     "execution_count": 2,
     "metadata": {},
     "output_type": "execute_result"
    }
   ],
   "source": [
    "5 in A, 6 in A # 5 belongs to A, 6 not belongs to A"
   ]
  },
  {
   "cell_type": "code",
   "execution_count": 3,
   "metadata": {},
   "outputs": [
    {
     "data": {
      "text/plain": [
       "(True, True)"
      ]
     },
     "execution_count": 3,
     "metadata": {},
     "output_type": "execute_result"
    }
   ],
   "source": [
    "D <= C, D.issubset(C) # D included in C"
   ]
  },
  {
   "cell_type": "code",
   "execution_count": 4,
   "metadata": {},
   "outputs": [
    {
     "data": {
      "text/plain": [
       "({4, 5}, {4, 5})"
      ]
     },
     "execution_count": 4,
     "metadata": {},
     "output_type": "execute_result"
    }
   ],
   "source": [
    "A&B, A.intersection(B), "
   ]
  },
  {
   "cell_type": "code",
   "execution_count": 5,
   "metadata": {},
   "outputs": [
    {
     "data": {
      "text/plain": [
       "({1, 2, 3, 4, 5, 6, 7}, {1, 2, 3, 4, 5, 6, 7})"
      ]
     },
     "execution_count": 5,
     "metadata": {},
     "output_type": "execute_result"
    }
   ],
   "source": [
    "A|B, A.union(B), "
   ]
  },
  {
   "cell_type": "code",
   "execution_count": 6,
   "metadata": {},
   "outputs": [
    {
     "data": {
      "text/plain": [
       "({1, 2, 3}, {1, 2, 3})"
      ]
     },
     "execution_count": 6,
     "metadata": {},
     "output_type": "execute_result"
    }
   ],
   "source": [
    "A-B, A.difference(B)"
   ]
  },
  {
   "cell_type": "code",
   "execution_count": null,
   "metadata": {},
   "outputs": [],
   "source": []
  },
  {
   "cell_type": "markdown",
   "metadata": {},
   "source": []
  },
  {
   "cell_type": "markdown",
   "metadata": {},
   "source": [
    "### 2.3 Counting Sample Points \n",
    "\n",
    "The 【fundamental principle of counting】, \n",
    "often referred to as the 【multiplication rule】, \n",
    "is stated in Rule 2.1.\n",
    "\n",
    "Rule 2.1: 【multiplication rule】\n",
    "====\n",
    "\n",
    "* If an operation can be performed in $ n_1 $ ways, \n",
    "* and if for each of these ways \n",
    "* a second operation can be performed in $ n_2 $ ways, \n",
    "* then the two operations can be performed together \n",
    "* in $ n_1 \\times n_2 $ ways.\n",
    "\n",
    "\n",
    "### ---\n",
    "The 【generalized multiplication rule】 covering 【k operations】 is stated in the following.\n",
    "\n",
    "Rule 2.2:  【generalized multiplication rule】\n",
    "====\n",
    "\n",
    "* If an operation can be performed in $ n_1 $ ways, \n",
    "* and if for each of these \n",
    "* a second operation can be performed in $ n_2 $ ways, \n",
    "* and for each of the first two \n",
    "* a third operation can be performed in $ n_3 $ ways, \n",
    "* and so forth, \n",
    "* then the sequence of k operations \n",
    "* can be performed in \n",
    "* $ n_1 \\times n_2 \\times · · · \\times n_k $ \n",
    "* ways.\n",
    "\n",
    "### ---\n",
    "Definition 2.7:  【permutation】\n",
    "====\n",
    "A permutation is an arrangement of all or part of a set of objects.\n",
    "\n",
    "### ---\n",
    "Definition 2.8: 【factorial】\n",
    "===\n",
    "\n",
    "* For any non-negative integer n, \n",
    "* n!, called “n factorial,” \n",
    "* is defined as\n",
    "* $ n! = n(n − 1) · · · (2)(1) $,\n",
    "* with special case 0! = 1.\n",
    "\n",
    "### ---\n",
    "Theorem 2.1: 【 permutation of n distinct objects】\n",
    "===\n",
    "\n",
    "The number of permutations of n distinct objects is n!.\n",
    "\n",
    "$ \n",
    "P^{n}_{n}= \\  _nP_n= \\ n!\n",
    "$\n",
    "\n",
    "### ---\n",
    "Theorem 2.2:  【permutation of n distinct objects choosing r】\n",
    "===\n",
    "The number of permutations \n",
    "of n distinct objects \n",
    "taken r at a time is\n",
    "\n",
    "$ \n",
    "P^{n}_{r}= \\  _nP_r= \\frac{n!}{(n-r)!}\n",
    "$\n",
    "\n",
    "### ---\n",
    "Theorem 2.3:  【permutations in a circle】  \n",
    "===\n",
    "The number of permutations of \n",
    "n objects 【arranged in a circle】 is \n",
    "\n",
    "$(n − 1)!$.\n",
    "\n",
    "### ---\n",
    "Theorem 2.4:  【permutations with objects in the same kinds】\n",
    "====\n",
    "\n",
    "* The number of distinct permutations of $n$ things \n",
    "* of which $ n_1 $ are of one kind, \n",
    "* $ n_2 $ of a second kind, \n",
    "* . . . , \n",
    "* $n_k$ of a $k^{th}$ kind is\n",
    "* \n",
    "$ \n",
    "\\frac{n!}{n_1!n_2! · · · n_k!} \n",
    "$\n",
    "\n",
    "### ---\n",
    "Theorem 2.5: 【partition】\n",
    "===\n",
    "\n",
    "* The number of ways of \n",
    "* partitioning a set \n",
    "* of n objects \n",
    "* into r cells \n",
    "\n",
    "with \n",
    "\n",
    "$ n_1 $ elements in the first cell, \n",
    "\n",
    "$ n_2 $ elements in the second, \n",
    "and so forth, is\n",
    "\n",
    "${n}\\choose{n_1, n_2,...n_r} $ \n",
    "$= \\frac{n!}{n_1! n_2! ... n_r!}$\n",
    "\n",
    "where $ n = n_1 + n_2 + · · · + n_r $\n",
    "\n",
    "### ---\n",
    "Theorem 2.6: 【combinations】\n",
    "===\n",
    "\n",
    "The number of combinations of \n",
    "n distinct objects \n",
    "taken r at a time \n",
    "is\n",
    "\n",
    "$\n",
    "{n}\\choose{r}\n",
    "$\n",
    "$\n",
    "=\n",
    "\\frac{n!}{r!(n − r)!}\n",
    "$"
   ]
  },
  {
   "cell_type": "markdown",
   "metadata": {},
   "source": [
    "# Permutations & Combinations in Python\n"
   ]
  },
  {
   "cell_type": "code",
   "execution_count": 7,
   "metadata": {},
   "outputs": [
    {
     "data": {
      "text/plain": [
       "(60,\n",
       " [(1, 2, 3),\n",
       "  (1, 2, 4),\n",
       "  (1, 2, 5),\n",
       "  (1, 3, 2),\n",
       "  (1, 3, 4),\n",
       "  (1, 3, 5),\n",
       "  (1, 4, 2),\n",
       "  (1, 4, 3),\n",
       "  (1, 4, 5),\n",
       "  (1, 5, 2),\n",
       "  (1, 5, 3),\n",
       "  (1, 5, 4),\n",
       "  (2, 1, 3),\n",
       "  (2, 1, 4),\n",
       "  (2, 1, 5),\n",
       "  (2, 3, 1),\n",
       "  (2, 3, 4),\n",
       "  (2, 3, 5),\n",
       "  (2, 4, 1),\n",
       "  (2, 4, 3),\n",
       "  (2, 4, 5),\n",
       "  (2, 5, 1),\n",
       "  (2, 5, 3),\n",
       "  (2, 5, 4),\n",
       "  (3, 1, 2),\n",
       "  (3, 1, 4),\n",
       "  (3, 1, 5),\n",
       "  (3, 2, 1),\n",
       "  (3, 2, 4),\n",
       "  (3, 2, 5),\n",
       "  (3, 4, 1),\n",
       "  (3, 4, 2),\n",
       "  (3, 4, 5),\n",
       "  (3, 5, 1),\n",
       "  (3, 5, 2),\n",
       "  (3, 5, 4),\n",
       "  (4, 1, 2),\n",
       "  (4, 1, 3),\n",
       "  (4, 1, 5),\n",
       "  (4, 2, 1),\n",
       "  (4, 2, 3),\n",
       "  (4, 2, 5),\n",
       "  (4, 3, 1),\n",
       "  (4, 3, 2),\n",
       "  (4, 3, 5),\n",
       "  (4, 5, 1),\n",
       "  (4, 5, 2),\n",
       "  (4, 5, 3),\n",
       "  (5, 1, 2),\n",
       "  (5, 1, 3),\n",
       "  (5, 1, 4),\n",
       "  (5, 2, 1),\n",
       "  (5, 2, 3),\n",
       "  (5, 2, 4),\n",
       "  (5, 3, 1),\n",
       "  (5, 3, 2),\n",
       "  (5, 3, 4),\n",
       "  (5, 4, 1),\n",
       "  (5, 4, 2),\n",
       "  (5, 4, 3)])"
      ]
     },
     "execution_count": 7,
     "metadata": {},
     "output_type": "execute_result"
    }
   ],
   "source": [
    "import itertools\n",
    "\n",
    "X= [1,2,3,4,5]\n",
    "xP= itertools.permutations(X, 3)\n",
    "xC= itertools.combinations(X, 3)\n",
    "\n",
    "xP= list(xP)\n",
    "len(xP), xP"
   ]
  },
  {
   "cell_type": "code",
   "execution_count": 8,
   "metadata": {},
   "outputs": [
    {
     "data": {
      "text/plain": [
       "(10,\n",
       " [(1, 2, 3),\n",
       "  (1, 2, 4),\n",
       "  (1, 2, 5),\n",
       "  (1, 3, 4),\n",
       "  (1, 3, 5),\n",
       "  (1, 4, 5),\n",
       "  (2, 3, 4),\n",
       "  (2, 3, 5),\n",
       "  (2, 4, 5),\n",
       "  (3, 4, 5)])"
      ]
     },
     "execution_count": 8,
     "metadata": {},
     "output_type": "execute_result"
    }
   ],
   "source": [
    "xC= list(xC)\n",
    "len(xC), xC"
   ]
  },
  {
   "cell_type": "code",
   "execution_count": 9,
   "metadata": {},
   "outputs": [
    {
     "data": {
      "text/plain": [
       "(60.0, 10.0, 10.0, 10.0)"
      ]
     },
     "execution_count": 9,
     "metadata": {},
     "output_type": "execute_result"
    }
   ],
   "source": [
    "import numpy as np\n",
    "\n",
    "import scipy.special\n",
    "from   scipy.special import factorial, comb, perm\n",
    "\n",
    "x1= perm(5,3)\n",
    "x2= comb(5,3)\n",
    "x3= perm(5,3)/factorial(3)\n",
    "x4= factorial(5)/factorial(3)/factorial(2)\n",
    "x1, x2, x3, x4"
   ]
  },
  {
   "cell_type": "code",
   "execution_count": null,
   "metadata": {},
   "outputs": [],
   "source": []
  },
  {
   "cell_type": "markdown",
   "metadata": {},
   "source": [
    "### Exercises \n",
    "#### 2.25\n",
    "\n",
    "A certain brand of shoes comes in 5 different\n",
    "styles, with each style available in 4 distinct colors. If\n",
    "the store wishes to display pairs of these shoes showing\n",
    "all of its various styles and colors, how many different\n",
    "pairs will the store have on display?\n",
    "\n",
    "#### 2.30 \n",
    "In how many different ways can a true-false test\n",
    "consisting of 9 questions be answered?\n",
    "\n",
    "#### 2.35 \n",
    "A contractor wishes to build 9 houses, each different\n",
    "in design. In how many ways can he place these\n",
    "houses on a street if 6 lots are on one side of the street\n",
    "and 3 lots are on the opposite side?\n",
    "\n",
    "#### 2.40 \n",
    "In how many ways can 5 starting positions on a\n",
    "basketball team be filled with 8 men who can play any\n",
    "of the positions?\n",
    "\n",
    "#### 2.45 \n",
    "How many distinct permutations can be made\n",
    "from the letters of the word INFINITY ?"
   ]
  },
  {
   "cell_type": "code",
   "execution_count": null,
   "metadata": {},
   "outputs": [],
   "source": []
  },
  {
   "cell_type": "markdown",
   "metadata": {},
   "source": [
    "### 2.4 Probability of an Event \n",
    "\n",
    "* Perhaps it was humankind’s unquenchable thirst for gambling that led to the early development of probability theory. \n",
    "* \n",
    "* In an effort to increase their winnings, gamblers called upon mathematicians to provide optimum strategies for various games of chance. \n",
    "* \n",
    "* Some of the mathematicians providing these strategies were Pascal, Leibniz, Fermat, and James Bernoulli. \n",
    "* \n",
    "* As a result of this development of probability theory, statistical inference, with all its predictions and generalizations, has branched out far beyond games of chance to encompass many other fields associated with chance occurrences, such as politics, business, weather forecasting, and scientific research. \n",
    "* \n",
    "* For these predictions and generalizations to be reasonably accurate, an understanding of basic probability theory is essential.\n",
    "\n",
    "### ---\n",
    "* Throughout the remainder of this chapter, we consider only those experiments for which the sample space contains a finite number of elements. \n",
    "* \n",
    "* The likelihood of the occurrence of an event resulting from such a statistical experiment is evaluated by means of a set of real numbers, called weights or probabilities, ranging from 0 to 1. \n",
    "* \n",
    "* To every point in the sample space we assign a probability such that the sum of all probabilities is 1. \n",
    "* \n",
    "* If we have reason to believe that a certain sample point is quite likely to occur when the experiment is conducted, the probability assigned should be close to 1. \n",
    "* \n",
    "* On the other hand, a probability closer to 0 is assigned to a sample point that is not likely to occur. \n",
    "* \n",
    "* In many experiments, such as tossing a coin or a die, all the sample points have the same chance of occurring and are assigned equal probabilities. \n",
    "* \n",
    "* For points outside the sample space, that is, for simple events that cannot possibly occur, we assign a probability of 0. \n",
    "* \n",
    "* To find the probability of an event A, we sum all the probabilities assigned to the sample points in A. \n",
    "* \n",
    "* This sum is called the probability of A and is denoted by P(A)."
   ]
  },
  {
   "cell_type": "markdown",
   "metadata": {},
   "source": [
    "### ---\n",
    "Definition 2.9: 【Axioms of Probability】\n",
    "====\n",
    "\n",
    "* The probability of an event A is the sum of the probabilities (weights) of all sample points in A. \n",
    "* \n",
    "* Therefore,\n",
    "    - 0 ≤ P(A) ≤ 1, \n",
    "    - P(φ) = 0, \n",
    "    - and P(S) = 1.\n",
    "* \n",
    "* Furthermore, \n",
    "* if A1, A2, A3, . . . is a sequence \n",
    "* of 【mutually exclusive】 events, \n",
    "* \n",
    "* then\n",
    "    - P(A1 ∪ A2 ∪ A3 ∪ ·· ·) \n",
    "    - = P(A1) + P(A2) + P(A3) + · · · ."
   ]
  },
  {
   "cell_type": "markdown",
   "metadata": {},
   "source": [
    "### Example 2.24: \n",
    "* A coin is tossed twice. \n",
    "* What is the probability \n",
    "* that at least 1 head occurs?\n",
    "\n",
    "--------\n",
    "\n",
    "【Solution】 : \n",
    "* \n",
    "* The sample space for this experiment is\n",
    "    - S = \"A coin is tossed twice\" = {HH, HT, TH, TT}.\n",
    "* \n",
    "* If the coin is balanced, \n",
    "* each of these outcomes is 【equally likely】 to occur. \n",
    "* \n",
    "* Therefore, \n",
    "* we assign a probability of ω to each sample point. \n",
    "* \n",
    "* Then \n",
    "    - $ 4ω = 1,  \\Rightarrow ω = \\frac{1}{4} $. \n",
    "* \n",
    "* If A represents the event of \"at least 1 head occurring\", \n",
    "* then \n",
    "    - A = \"at least 1 head occurring\" = {HH, HT, TH} \n",
    "* and \n",
    "    -  \n",
    "$\n",
    "P(A) = \\frac{1}{4} + \\frac{1}{4} + \\frac{1}{4} = \\frac{3}{4} \n",
    "$\n",
    "\n",
    "### ---\n",
    "\n",
    "#### Example 2.25: \n",
    "\n",
    "* A die is loaded in such a way \n",
    "* that an even number is twice as likely to occur as an odd number. \n",
    "* \n",
    "* If E is the event \n",
    "* that a number less than 4 occurs \n",
    "* on a single toss of the die, \n",
    "* find P(E).\n",
    "\n",
    "#### Example 2.26: \n",
    "* In Example 2.25, \n",
    "* let A be the event that an even number turns up \n",
    "* and let B be the event that a number divisible by 3 occurs. \n",
    "* Find P(A ∪ B) and P(A ∩ B).\n",
    "\n",
    "\n",
    "\n",
    "\n"
   ]
  },
  {
   "cell_type": "markdown",
   "metadata": {},
   "source": [
    "Rule 2.3: 【equally likely outcomes】\n",
    "===\n",
    "* If an experiment can result in any one of N different 【equally likely outcomes】, \n",
    "* and if exactly n of these outcomes correspond to event A, \n",
    "* \n",
    "* then the probability of event A is\n",
    "    - $ P(A) = \\frac{n}{N} $\n"
   ]
  },
  {
   "cell_type": "markdown",
   "metadata": {},
   "source": [
    "### Example 2.28: 【poker hand】\n",
    "\n",
    "* In a poker hand consisting of 5 cards, \n",
    "* (a) find the probability of holding \"2 aces and 3 jacks\" (2 'A' + 3 'J').\n",
    "* (b) find the probability of holding a pattern of \"Full House\"\n",
    "\n",
    "【Solution】 :\n",
    "\n",
    "#### (a)\n",
    "* The number of ways of being dealt 2 'A' from 4 'A'-cards is\n",
    "* \n",
    "$ \n",
    "n_1= {4 \\choose 2} = 6\n",
    "$\n",
    "* \n",
    "* and the number of ways of being dealt 3 'J' from 4 'J'-cards is\n",
    "* \n",
    "$\n",
    "n_2= {4 \\choose 3} = 4\n",
    "$\n",
    "* \n",
    "* By the multiplication rule (Rule 2.1), \n",
    "* there are \n",
    "* $n = n_1 \\times n_2= (6)(4) = 24 $ \n",
    "* hands with 2 'A' and 3 'J'. \n",
    "* \n",
    "* The total number of 5-card poker hands, \n",
    "* all of which are 【equally likely】, is\n",
    "* \n",
    "$ \n",
    "N= { 52 \\choose 5} = 2,598,960\n",
    "$\n",
    "* \n",
    "* Therefore, \n",
    "* the probability of getting 2 aces and 3 jacks in a 5-card poker hand is \n",
    "$ \n",
    "P(2'A' + 3'J') = \\frac{n}{N} = \\frac{24}{2,598,960} = 9.23 \\times 10^{-6}\n",
    "$\n",
    "\n",
    "#### (b)\n",
    "\n",
    "aFullHouse == 2x + 3y, \n",
    "\n",
    "where \n",
    "$\n",
    "x, y \\in \\{'A', '2', '3','4', '5', '6','7', '8', '9','10','J', 'Q','K'\\}\n",
    "$\n",
    "\n",
    "$\n",
    "x \\ne y \n",
    "$\n",
    "* number of choices for x: Nx  = 13\n",
    "* number of choices for y: Ny  = 13-1 =12\n",
    "* number of choices for (x, y): Nxy= (13)(12) = 156\n",
    "* for each (x,y), P(\"aFullHouse\") = P (\"2x + 3y\") = $ \\frac{24}{2,598,960} = 9.23 \\times 10^{-6} $\n",
    "* \n",
    "* Consider all possibilities for (x,y), \n",
    "* \n",
    "* P(\"any FullHouse\") \n",
    "* = Nxy * P(\"aFullHouse\") \n",
    "$ \n",
    "= 156 \\times  \\frac{24}{2,598,960} \\\\\n",
    "= 1.44 \\times 10^{-3} \n",
    "$  \n"
   ]
  },
  {
   "cell_type": "code",
   "execution_count": 10,
   "metadata": {},
   "outputs": [
    {
     "data": {
      "text/plain": [
       "(9.23446301597562e-06, 156, 3744, 0.0014405762304921968)"
      ]
     },
     "execution_count": 10,
     "metadata": {},
     "output_type": "execute_result"
    }
   ],
   "source": [
    "24/2598960, 13*12, 13*12*24, 13*12*24*1/2598960"
   ]
  },
  {
   "cell_type": "code",
   "execution_count": 11,
   "metadata": {},
   "outputs": [
    {
     "data": {
      "text/plain": [
       "(6,\n",
       " 4,\n",
       " [('A1', 'A2'),\n",
       "  ('A1', 'A3'),\n",
       "  ('A1', 'A4'),\n",
       "  ('A2', 'A3'),\n",
       "  ('A2', 'A4'),\n",
       "  ('A3', 'A4')],\n",
       " [('J1', 'J2', 'J3'),\n",
       "  ('J1', 'J2', 'J4'),\n",
       "  ('J1', 'J3', 'J4'),\n",
       "  ('J2', 'J3', 'J4')])"
      ]
     },
     "execution_count": 11,
     "metadata": {},
     "output_type": "execute_result"
    }
   ],
   "source": [
    "from itertools import permutations, combinations\n",
    "\n",
    "# let 1,2,3,4 represents 'Spade','Heart','Club','Diamond'\n",
    "A_cards= ['A1','A2','A3','A4'] \n",
    "J_cards= ['J1','J2','J3','J4']\n",
    "\n",
    "A_pair= list(combinations(A_cards, 2)) \n",
    "J_tri=  list(combinations(J_cards, 3))\n",
    "\n",
    "len(A_pair), len(J_tri), A_pair, J_tri"
   ]
  },
  {
   "cell_type": "code",
   "execution_count": 12,
   "metadata": {},
   "outputs": [
    {
     "data": {
      "text/plain": [
       "(24,\n",
       " [[('A1', 'A2'), ('J1', 'J2', 'J3')],\n",
       "  [('A1', 'A2'), ('J1', 'J2', 'J4')],\n",
       "  [('A1', 'A2'), ('J1', 'J3', 'J4')],\n",
       "  [('A1', 'A2'), ('J2', 'J3', 'J4')],\n",
       "  [('A1', 'A3'), ('J1', 'J2', 'J3')],\n",
       "  [('A1', 'A3'), ('J1', 'J2', 'J4')],\n",
       "  [('A1', 'A3'), ('J1', 'J3', 'J4')],\n",
       "  [('A1', 'A3'), ('J2', 'J3', 'J4')],\n",
       "  [('A1', 'A4'), ('J1', 'J2', 'J3')],\n",
       "  [('A1', 'A4'), ('J1', 'J2', 'J4')],\n",
       "  [('A1', 'A4'), ('J1', 'J3', 'J4')],\n",
       "  [('A1', 'A4'), ('J2', 'J3', 'J4')],\n",
       "  [('A2', 'A3'), ('J1', 'J2', 'J3')],\n",
       "  [('A2', 'A3'), ('J1', 'J2', 'J4')],\n",
       "  [('A2', 'A3'), ('J1', 'J3', 'J4')],\n",
       "  [('A2', 'A3'), ('J2', 'J3', 'J4')],\n",
       "  [('A2', 'A4'), ('J1', 'J2', 'J3')],\n",
       "  [('A2', 'A4'), ('J1', 'J2', 'J4')],\n",
       "  [('A2', 'A4'), ('J1', 'J3', 'J4')],\n",
       "  [('A2', 'A4'), ('J2', 'J3', 'J4')],\n",
       "  [('A3', 'A4'), ('J1', 'J2', 'J3')],\n",
       "  [('A3', 'A4'), ('J1', 'J2', 'J4')],\n",
       "  [('A3', 'A4'), ('J1', 'J3', 'J4')],\n",
       "  [('A3', 'A4'), ('J2', 'J3', 'J4')]])"
      ]
     },
     "execution_count": 12,
     "metadata": {},
     "output_type": "execute_result"
    }
   ],
   "source": [
    "Hands= []\n",
    "for a in A_pair:\n",
    "    for j in J_tri:\n",
    "        Hands += [[a,j]]\n",
    "len(Hands), Hands"
   ]
  },
  {
   "cell_type": "code",
   "execution_count": null,
   "metadata": {},
   "outputs": [],
   "source": []
  },
  {
   "cell_type": "code",
   "execution_count": null,
   "metadata": {},
   "outputs": [],
   "source": []
  },
  {
   "cell_type": "markdown",
   "metadata": {},
   "source": [
    "### 2.5 Additive Rules "
   ]
  },
  {
   "cell_type": "markdown",
   "metadata": {},
   "source": [
    "### Exercises "
   ]
  },
  {
   "cell_type": "markdown",
   "metadata": {},
   "source": [
    "### 2.6 Conditional Probability, Independence, and the Product Rule "
   ]
  },
  {
   "cell_type": "markdown",
   "metadata": {},
   "source": [
    "### Exercises "
   ]
  },
  {
   "cell_type": "markdown",
   "metadata": {},
   "source": [
    "### 2.7 Bayes’ Rule "
   ]
  },
  {
   "cell_type": "markdown",
   "metadata": {},
   "source": [
    "### Exercises "
   ]
  },
  {
   "cell_type": "markdown",
   "metadata": {},
   "source": [
    "### Review Exercises"
   ]
  },
  {
   "attachments": {
    "%E5%9C%96%E7%89%871_Figure%202.1%20.png": {
     "image/png": "[encoded data removed]"
    },
    "Radian_cropped_color.svg": {
     "image/svg+xml": [
      "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"
     ]
    }
   },
   "cell_type": "markdown",
   "metadata": {},
   "source": [
    "![替代文字](https://github.com/renyuanL/_2019/blob/master/%E5%9C%96%E7%89%8710_Figure%202.10%20%20.png)\n",
    "\n",
    "![%E5%9C%96%E7%89%871_Figure%202.1%20.png](attachment:%E5%9C%96%E7%89%871_Figure%202.1%20.png)\n",
    "\n",
    "![Radian_cropped_color.svg](attachment:Radian_cropped_color.svg)\n",
    "\n"
   ]
  },
  {
   "cell_type": "code",
   "execution_count": 33,
   "metadata": {},
   "outputs": [
    {
     "ename": "ValueError",
     "evalue": "Cannot embed the 'png?raw=true' image format",
     "output_type": "error",
     "traceback": [
      "\u001b[1;31m---------------------------------------------------------------------------\u001b[0m",
      "\u001b[1;31mValueError\u001b[0m                                Traceback (most recent call last)",
      "\u001b[1;32m<ipython-input-33-e409ee643594>\u001b[0m in \u001b[0;36m<module>\u001b[1;34m()\u001b[0m\n\u001b[0;32m      7\u001b[0m \u001b[1;31m#Image(\"Figure0201.png\")\u001b[0m\u001b[1;33m\u001b[0m\u001b[1;33m\u001b[0m\u001b[0m\n\u001b[0;32m      8\u001b[0m \u001b[0murl\u001b[0m\u001b[1;33m=\u001b[0m \u001b[1;34m'https://github.com/renyuanL/_2019/blob/master/Figure0201.png?raw=true'\u001b[0m\u001b[1;33m\u001b[0m\u001b[0m\n\u001b[1;32m----> 9\u001b[1;33m \u001b[0mImage\u001b[0m\u001b[1;33m(\u001b[0m\u001b[0murl\u001b[0m\u001b[1;33m)\u001b[0m\u001b[1;33m\u001b[0m\u001b[0m\n\u001b[0m",
      "\u001b[1;32mC:\\Anaconda52_Py36\\lib\\site-packages\\IPython\\core\\display.py\u001b[0m in \u001b[0;36m__init__\u001b[1;34m(self, data, url, filename, format, embed, width, height, retina, unconfined, metadata)\u001b[0m\n\u001b[0;32m   1140\u001b[0m \u001b[1;33m\u001b[0m\u001b[0m\n\u001b[0;32m   1141\u001b[0m         \u001b[1;32mif\u001b[0m \u001b[0mself\u001b[0m\u001b[1;33m.\u001b[0m\u001b[0membed\u001b[0m \u001b[1;32mand\u001b[0m \u001b[0mself\u001b[0m\u001b[1;33m.\u001b[0m\u001b[0mformat\u001b[0m \u001b[1;32mnot\u001b[0m \u001b[1;32min\u001b[0m \u001b[0mself\u001b[0m\u001b[1;33m.\u001b[0m\u001b[0m_ACCEPTABLE_EMBEDDINGS\u001b[0m\u001b[1;33m:\u001b[0m\u001b[1;33m\u001b[0m\u001b[0m\n\u001b[1;32m-> 1142\u001b[1;33m             \u001b[1;32mraise\u001b[0m \u001b[0mValueError\u001b[0m\u001b[1;33m(\u001b[0m\u001b[1;34m\"Cannot embed the '%s' image format\"\u001b[0m \u001b[1;33m%\u001b[0m \u001b[1;33m(\u001b[0m\u001b[0mself\u001b[0m\u001b[1;33m.\u001b[0m\u001b[0mformat\u001b[0m\u001b[1;33m)\u001b[0m\u001b[1;33m)\u001b[0m\u001b[1;33m\u001b[0m\u001b[0m\n\u001b[0m\u001b[0;32m   1143\u001b[0m         \u001b[1;32mif\u001b[0m \u001b[0mself\u001b[0m\u001b[1;33m.\u001b[0m\u001b[0membed\u001b[0m\u001b[1;33m:\u001b[0m\u001b[1;33m\u001b[0m\u001b[0m\n\u001b[0;32m   1144\u001b[0m             \u001b[0mself\u001b[0m\u001b[1;33m.\u001b[0m\u001b[0m_mimetype\u001b[0m \u001b[1;33m=\u001b[0m \u001b[0mself\u001b[0m\u001b[1;33m.\u001b[0m\u001b[0m_MIMETYPES\u001b[0m\u001b[1;33m.\u001b[0m\u001b[0mget\u001b[0m\u001b[1;33m(\u001b[0m\u001b[0mself\u001b[0m\u001b[1;33m.\u001b[0m\u001b[0mformat\u001b[0m\u001b[1;33m)\u001b[0m\u001b[1;33m\u001b[0m\u001b[0m\n",
      "\u001b[1;31mValueError\u001b[0m: Cannot embed the 'png?raw=true' image format"
     ]
    }
   ],
   "source": [
    "from IPython.display import Image, display\n",
    "import io\n",
    "\n",
    "url1= 'https://github.com/renyuanL/_2019/blob/master/Radian_cropped_color.svg'\n",
    "url2= 'https://github.com/renyuanL/_2019/blob/master/Figure0201.png'\n",
    "\n",
    "#Image(\"Figure0201.png\")\n",
    "url= 'https://github.com/renyuanL/_2019/blob/master/Figure0201.png?raw=true'\n",
    "Image(url)\n",
    "\n"
   ]
  },
  {
   "cell_type": "code",
   "execution_count": 35,
   "metadata": {},
   "outputs": [
    {
     "data": {
      "text/html": [
       "<img src= https://raw.githubusercontent.com/renyuanL/_2019/blob/master/Figure0201.png>"
      ],
      "text/plain": [
       "<IPython.core.display.HTML object>"
      ]
     },
     "metadata": {},
     "output_type": "display_data"
    }
   ],
   "source": [
    "%%html\n",
    "<img src= https://raw.githubusercontent.com/renyuanL/_2019/blob/master/Figure0201.png>\n"
   ]
  },
  {
   "cell_type": "markdown",
   "metadata": {},
   "source": [
    "![](https://raw.githubusercontent.com/renyuanL/_2019/master/Figure0201.png)"
   ]
  },
  {
   "cell_type": "markdown",
   "metadata": {},
   "source": [
    "![](https://raw.githubusercontent.com/renyuanL/_2019/master/Figure0201.png)\n",
    "\n",
    "![](https://raw.githubusercontent.com/renyuanL/_2019/master/%E5%9C%96%E7%89%8714_Figure%202.14%20%20.png)\n"
   ]
  },
  {
   "cell_type": "code",
   "execution_count": null,
   "metadata": {},
   "outputs": [],
   "source": []
  }
 ],
 "metadata": {
  "kernelspec": {
   "display_name": "Python 3",
   "language": "python",
   "name": "python3"
  },
  "language_info": {
   "codemirror_mode": {
    "name": "ipython",
    "version": 3
   },
   "file_extension": ".py",
   "mimetype": "text/x-python",
   "name": "python",
   "nbconvert_exporter": "python",
   "pygments_lexer": "ipython3",
   "version": "3.6.5"
  }
 },
 "nbformat": 4,
 "nbformat_minor": 2
}
