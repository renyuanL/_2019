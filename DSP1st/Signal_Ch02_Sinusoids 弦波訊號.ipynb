{
 "cells": [
  {
   "cell_type": "markdown",
   "metadata": {},
   "source": [
    "## Dsp 1st\n",
    "### Ch02  Sinusoids 弦波訊號\n"
   ]
  },
  {
   "cell_type": "code",
   "execution_count": null,
   "metadata": {},
   "outputs": [],
   "source": [
    "import numpy as np\n",
    "#import pylab as pl\n",
    "import matplotlib.pyplot as pl\n",
    "π= np.pi"
   ]
  },
  {
   "cell_type": "code",
   "execution_count": null,
   "metadata": {},
   "outputs": [],
   "source": [
    "θ= np.linspace(0, 2*π, 1001) # 0 ~ 2π 之間 取 1000點\n",
    "x=  np.cos(θ)\n",
    "\n",
    "pl.figure(0)\n",
    "pl.plot(θ, x)\n",
    "pl.grid()\n",
    "pl.xlabel('θ (radian)')\n",
    "pl.ylabel('x= np.cos(θ)')\n",
    "\n",
    "pl.figure(1)\n",
    "pl.plot(θ/(2*π), x) # 以 cycle 為單位\n",
    "pl.grid(True)\n",
    "pl.xlabel(\"θ/2π (cycle)\")\n",
    "pl.ylabel('x= np.cos(θ)')\n"
   ]
  },
  {
   "cell_type": "code",
   "execution_count": null,
   "metadata": {},
   "outputs": [],
   "source": [
    "θ= np.linspace(0, 2*π, 1001) # 0 ~ 2π 之間 取 1000點\n",
    "x=  np.sin(θ)\n",
    "\n",
    "pl.figure(0)\n",
    "pl.plot(θ, x)\n",
    "pl.grid()\n",
    "pl.xlabel('θ (radian)')\n",
    "pl.ylabel('x= np.sin(θ)')\n",
    "\n",
    "pl.figure(1)\n",
    "pl.plot(θ/(2*π), x) # 以 cycle 為單位\n",
    "pl.grid(True)\n",
    "pl.xlabel(\"θ/2π (cycle)\")\n",
    "pl.ylabel('x= np.sin(θ)')\n",
    "\n"
   ]
  },
  {
   "cell_type": "code",
   "execution_count": null,
   "metadata": {},
   "outputs": [],
   "source": [
    "t= np.linspace(0,10,1001) # 0~ 10 sec， 取 1001點。\n",
    "f= 1 # Hz\n",
    "θ= 2 * π * f * t\n",
    "x= np.sin(2*π*1*t)\n",
    "pl.plot(t,x)\n",
    "pl.grid()"
   ]
  },
  {
   "cell_type": "code",
   "execution_count": null,
   "metadata": {},
   "outputs": [],
   "source": [
    "2*π"
   ]
  },
  {
   "cell_type": "code",
   "execution_count": null,
   "metadata": {},
   "outputs": [],
   "source": [
    "radius= 1 # meter, 米\n",
    "cycle= 2 * π * radius\n",
    "degree= 1/360 * cycle\n",
    "minute= 1/60 * degree\n",
    "second= 1/60 * minute\n",
    "cycle, degree, minute, second"
   ]
  },
  {
   "cell_type": "code",
   "execution_count": null,
   "metadata": {},
   "outputs": [],
   "source": []
  },
  {
   "cell_type": "code",
   "execution_count": null,
   "metadata": {},
   "outputs": [],
   "source": [
    "60*degree"
   ]
  },
  {
   "cell_type": "markdown",
   "metadata": {},
   "source": [
    "  $  \\alpha $"
   ]
  },
  {
   "cell_type": "code",
   "execution_count": null,
   "metadata": {},
   "outputs": [],
   "source": []
  },
  {
   "cell_type": "code",
   "execution_count": null,
   "metadata": {},
   "outputs": [],
   "source": [
    "θ= np.arange(0,2*π,2*π/100)\n",
    "θ"
   ]
  },
  {
   "cell_type": "code",
   "execution_count": null,
   "metadata": {},
   "outputs": [],
   "source": [
    "θ= np.linspace(0,2*π,101)\n",
    "θ"
   ]
  },
  {
   "cell_type": "code",
   "execution_count": null,
   "metadata": {},
   "outputs": [],
   "source": [
    "t= np.linspace(0,1,101)\n",
    "f= 1\n",
    "θ= 2 * π * f * t\n",
    "x= np.cos(θ)\n",
    "x\n",
    "pl.plot(t,x)\n"
   ]
  },
  {
   "cell_type": "code",
   "execution_count": null,
   "metadata": {},
   "outputs": [],
   "source": [
    "# A 大調音階\n",
    "r= 2**(1/12)\n",
    "r"
   ]
  },
  {
   "cell_type": "code",
   "execution_count": null,
   "metadata": {},
   "outputs": [],
   "source": [
    "import numpy as np\n",
    "\n",
    "[A,B,C,D,E,F,G,a]= 1000*r**np.array([0,2,4,5,7,9,11,12])"
   ]
  },
  {
   "cell_type": "code",
   "execution_count": null,
   "metadata": {},
   "outputs": [],
   "source": [
    "A,E,a"
   ]
  },
  {
   "cell_type": "code",
   "execution_count": null,
   "metadata": {},
   "outputs": [],
   "source": [
    "A,B,C,D,E,F,G,a"
   ]
  },
  {
   "cell_type": "code",
   "execution_count": null,
   "metadata": {},
   "outputs": [],
   "source": [
    "np.array(_).astype(int)"
   ]
  },
  {
   "cell_type": "code",
   "execution_count": null,
   "metadata": {},
   "outputs": [],
   "source": [
    "np.round([A,B,C,D,E,F,G,a])"
   ]
  },
  {
   "cell_type": "markdown",
   "metadata": {},
   "source": [
    "# 2019/03/04"
   ]
  },
  {
   "cell_type": "code",
   "execution_count": null,
   "metadata": {},
   "outputs": [],
   "source": [
    "import sympy as sp"
   ]
  },
  {
   "cell_type": "code",
   "execution_count": null,
   "metadata": {},
   "outputs": [],
   "source": [
    "x,y,z,θ,ϕ,ω= sp.symbols('x,y,z,θ,ϕ,ω')"
   ]
  },
  {
   "cell_type": "code",
   "execution_count": null,
   "metadata": {},
   "outputs": [],
   "source": [
    "x"
   ]
  },
  {
   "cell_type": "code",
   "execution_count": null,
   "metadata": {},
   "outputs": [],
   "source": [
    "y"
   ]
  },
  {
   "cell_type": "code",
   "execution_count": null,
   "metadata": {},
   "outputs": [],
   "source": [
    "z"
   ]
  },
  {
   "cell_type": "code",
   "execution_count": null,
   "metadata": {},
   "outputs": [],
   "source": [
    "x+y"
   ]
  },
  {
   "cell_type": "code",
   "execution_count": null,
   "metadata": {},
   "outputs": [],
   "source": [
    "x**2+2*x+1\n"
   ]
  },
  {
   "cell_type": "code",
   "execution_count": null,
   "metadata": {},
   "outputs": [],
   "source": [
    "eq= x+y"
   ]
  },
  {
   "cell_type": "code",
   "execution_count": null,
   "metadata": {},
   "outputs": [],
   "source": [
    "eq"
   ]
  },
  {
   "cell_type": "code",
   "execution_count": null,
   "metadata": {},
   "outputs": [],
   "source": [
    "eq.subs(x,1)"
   ]
  },
  {
   "cell_type": "code",
   "execution_count": null,
   "metadata": {},
   "outputs": [],
   "source": [
    "eq.subs([(x,10),(y,100)])"
   ]
  },
  {
   "cell_type": "code",
   "execution_count": null,
   "metadata": {},
   "outputs": [],
   "source": [
    "eq.simplify()"
   ]
  },
  {
   "cell_type": "code",
   "execution_count": null,
   "metadata": {},
   "outputs": [],
   "source": [
    "eq= (x+y)**3"
   ]
  },
  {
   "cell_type": "code",
   "execution_count": null,
   "metadata": {},
   "outputs": [],
   "source": [
    "eq.simplify()"
   ]
  },
  {
   "cell_type": "code",
   "execution_count": null,
   "metadata": {},
   "outputs": [],
   "source": [
    "e1= eq.expand()"
   ]
  },
  {
   "cell_type": "code",
   "execution_count": null,
   "metadata": {},
   "outputs": [],
   "source": [
    "eq, e1"
   ]
  },
  {
   "cell_type": "code",
   "execution_count": null,
   "metadata": {},
   "outputs": [],
   "source": [
    "eq.factor()"
   ]
  },
  {
   "cell_type": "code",
   "execution_count": null,
   "metadata": {},
   "outputs": [],
   "source": [
    "e= sp.cos(θ+ϕ)"
   ]
  },
  {
   "cell_type": "code",
   "execution_count": null,
   "metadata": {},
   "outputs": [],
   "source": [
    "e"
   ]
  },
  {
   "cell_type": "code",
   "execution_count": null,
   "metadata": {},
   "outputs": [],
   "source": [
    "import numpy as np\n",
    "import matplotlib.pyplot as pl\n",
    "%matplotlib inline\n",
    "import scipy.signal as ss\n"
   ]
  },
  {
   "cell_type": "code",
   "execution_count": null,
   "metadata": {},
   "outputs": [],
   "source": [
    "π= np.pi\n",
    "\n",
    "def 補助線(N= 2):\n",
    "    '''\n",
    "    畫一些補助線來標示π及其倍數的位置\n",
    "    '''\n",
    "    for k in range(N+1):\n",
    "        v= np.linspace(-1,1,11)\n",
    "        \n",
    "        u= np.ones(len(v)) * (k*π)\n",
    "        pl.plot(u,v,color= 'grey', linestyle='--')\n",
    "        \n",
    "        pl.text(u[0],-1,'{}π'.format(k))\n",
    "        \n",
    "        u= np.ones(len(v)) * ((k+.5)*π)\n",
    "        pl.plot(u,v,color= 'lightgrey', linestyle='--')\n",
    "        \n",
    "        pl.grid(True)\n",
    "\n",
    "補助線(N= 2)"
   ]
  },
  {
   "cell_type": "markdown",
   "metadata": {},
   "source": [
    "$       \n",
    "        x= x(\\theta) = A \\space cos( \\theta ) \\\\\n",
    "        \\\\\n",
    "        \\theta = \\theta (t) = \\omega t + \\phi\\\\ \n",
    "        \\\\\n",
    "        \\\\----------\\\\\n",
    "        x= x(\\theta) = x(\\theta (t)) = x(t)\\\\\n",
    "        = A \\space cos(\\omega t + \\phi) \n",
    "$"
   ]
  },
  {
   "cell_type": "markdown",
   "metadata": {},
   "source": [
    "$       \n",
    "        x= x(\\theta) = cos( \\theta ) \\\\\n",
    "        y= y(\\theta) = sin( \\theta ) = cos(\\theta - 0.5 \\pi)\\\\\n",
    "        \\\\\n",
    "        sin( \\theta ) = cos(\\theta - 0.5 \\pi)\n",
    "        \\\\\n",
    "        \\\\\n",
    "        x= x(\\theta; A, \\phi) = A \\space cos( \\theta + \\phi ) \\\\\n",
    "        y= y(\\theta; A, \\phi) = A \\space sin( \\theta + \\phi ) \\\\\n",
    "        \\\\\n",
    "        x= x(\\theta; A=1, \\phi = 0) = cos( \\theta) \\\\\n",
    "        y= y(\\theta; A=1, \\phi = 0) = sin( \\theta) \\\\\n",
    "$"
   ]
  },
  {
   "cell_type": "code",
   "execution_count": null,
   "metadata": {},
   "outputs": [],
   "source": [
    "nPeriod= N= 6\n",
    "nInterval=1000\n",
    "\n",
    "θ= np.linspace(-1*π, (N-1)*π, nInterval+1)\n",
    "ϕ= 0.1*π\n",
    "\n",
    "x= np.cos(θ+ϕ)\n",
    "y= np.sin(θ+ϕ)\n",
    "\n",
    "pl.figure()\n",
    "pl.grid(True)\n",
    "pl.plot(θ,x,color='r')\n",
    "pl.plot(θ,y,color='b')\n",
    "\n",
    "pl.xlabel('θ')\n",
    "pl.ylabel('x, y')\n",
    "pl.title('x=cos(θ+ϕ)=\"red\", y=sin(θ+ϕ)=\"blue\", ϕ= {}π'.format(ϕ/π))\n",
    "\n",
    "for k in range(nPeriod+1):\n",
    "    v= np.linspace(-1,1,11)\n",
    "    u= np.ones(len(v)) * (k*π)\n",
    "    pl.plot(u,v,color= 'grey', linestyle='--')\n",
    "    u= np.ones(len(v)) * ((k+.5)*π)\n",
    "    pl.plot(u,v,color= 'lightgrey', linestyle='--')\n",
    "\n",
    "補助線(N= N)\n",
    "\n",
    "#----------------\n",
    "pl.figure()\n",
    "pl.grid(True)\n",
    "\n",
    "pl.plot(x,y)\n",
    "pl.xlabel('x= cos(θ+ϕ)')\n",
    "pl.ylabel('y= sin(θ+ϕ)')\n",
    "\n",
    "pl.plot(0,0,'o')\n",
    "x0,y0= np.cos(ϕ),np.sin(ϕ)\n",
    "pl.plot(x0,y0,'o')\n",
    "pl.plot([0,x0],[0,y0],'g')\n",
    "pl.plot([x0,x0],[0,y0],'b')\n",
    "pl.plot([0,x0],[0,0],'r')\n",
    "\n",
    "for α in np.linspace(0,2*π,21): #range(7):\n",
    "    xx,yy= np.cos(α),np.sin(α)\n",
    "    pl.plot(xx,yy,'.')\n",
    "    pl.plot([0,xx],[0,yy],color= 'grey', linestyle='--')\n",
    "    pl.text(xx,yy,'{}π'.format(α/π))\n",
    "\n",
    "\n",
    "pl.title('ϕ= {}π'.format(ϕ/π))\n"
   ]
  },
  {
   "cell_type": "code",
   "execution_count": null,
   "metadata": {},
   "outputs": [],
   "source": []
  },
  {
   "cell_type": "code",
   "execution_count": null,
   "metadata": {},
   "outputs": [],
   "source": []
  },
  {
   "cell_type": "markdown",
   "metadata": {},
   "source": [
    "$       \n",
    "        x= x(\\theta) = A \\space cos( \\theta ) \\\\\n",
    "        \\\\\n",
    "        \\theta = \\theta (t) = \\omega t + \\phi\\\\ \n",
    "        \\\\\n",
    "        \\\\----------\\\\\n",
    "        x= x(\\theta) = x(\\theta (t)) = x(t)\\\\\n",
    "        = A \\space cos(\\omega t + \\phi) \n",
    "$"
   ]
  },
  {
   "cell_type": "code",
   "execution_count": null,
   "metadata": {},
   "outputs": [],
   "source": [
    "N= 4\n",
    "\n",
    "ϕ= 0 \n",
    "θ= np.linspace(0, N*π,1001)\n",
    "\n",
    "x= np.cos(θ+ϕ)\n",
    "\n",
    "pl.figure()\n",
    "pl.grid(True)\n",
    "pl.plot(θ,x)\n",
    "\n",
    "pl.xlabel('θ')\n",
    "pl.ylabel('x= cos(θ+ϕ)')\n",
    "pl.title('x = cos(θ+ϕ), ϕ= {}'.format(ϕ))\n",
    "\n",
    "\n",
    "\n",
    "        \n",
    "\n",
    "補助線(N= N)\n",
    "\n"
   ]
  },
  {
   "cell_type": "markdown",
   "metadata": {},
   "source": [
    "## Sec.2-4 \n",
    "### Sampling and Plotting Sinusoids\n",
    "\n",
    "$       \n",
    "        x= x(t)\\\\\n",
    "        = 20 \\space cos(2 \\pi (40) t - 0.4 \\pi) \n",
    "$\n",
    "\n",
    "### Sampling, timeInterval = $T_s$\n",
    "$\n",
    "        t = n \\space T_s    \\\\      \n",
    "        x= x(n \\space T_s)\\\\\n",
    "         = 20 \\  cos(2 \\pi (40) \\space n \\space T_s - 0.4 \\pi)    \\\\\n",
    "         = 20 \\  cos(2 \\pi (40 \\space T_s) \\space n  - 0.4 \\pi)    \\\\\n",
    "         = x[n]\n",
    "$\n",
    "\n",
    "### Plotting..."
   ]
  },
  {
   "cell_type": "code",
   "execution_count": null,
   "metadata": {},
   "outputs": [],
   "source": [
    "import numpy as np\n",
    "import matplotlib.pyplot as pl\n",
    "\n",
    "% matplotlib inline\n",
    "\n",
    "π= np.pi\n",
    "π"
   ]
  },
  {
   "cell_type": "code",
   "execution_count": null,
   "metadata": {},
   "outputs": [],
   "source": [
    "t= np.linspace(0, .1, 101) \n",
    "# 0 .. 1 取 100 間隔，頭尾加1 == 101\n",
    "\n",
    "x= 20 * np.cos(2 * π * (40) * t - 0.4 * π)\n",
    "\n",
    "pl.grid(True)\n",
    "pl.plot(t,x)\n",
    "pl.xlabel('t (sec)')\n",
    "pl.ylabel('x = x(t)')\n",
    "\n",
    "pl.figure()\n",
    "pl.grid(True)\n",
    "pl.stem(t,x)\n",
    "pl.xlabel('t (sec)')\n",
    "pl.ylabel('x = x(t)')\n"
   ]
  },
  {
   "cell_type": "code",
   "execution_count": null,
   "metadata": {},
   "outputs": [],
   "source": []
  },
  {
   "cell_type": "code",
   "execution_count": null,
   "metadata": {},
   "outputs": [],
   "source": [
    "\n",
    "n= np.arange(101) # n = 0 .. 100，整數\n",
    "\n",
    "Ts= 1/1000  \n",
    "# 任2點 (取樣點) 之時間間隔 (time interval)  (sec)\n",
    "\n",
    "t= n * Ts\n",
    "x= 20 * np.cos(2 * π * (40) * t - 0.4 * π)\n",
    "# x= 20 * np.cos(2 * π * (40 * Ts) * n - 0.4 * π)\n",
    "\n",
    "pl.grid(True)\n",
    "pl.stem(n,x)\n",
    "pl.xlabel('n (sample)')\n",
    "pl.ylabel('x = x(n Ts) = x[n]')"
   ]
  },
  {
   "cell_type": "code",
   "execution_count": null,
   "metadata": {},
   "outputs": [],
   "source": [
    "n= np.arange(101) # n = 0 .. 100，整數\n",
    "\n",
    "for Ts in [.001, .002, .005, .010]: #, .020, .050, .100]:  \n",
    "    # 任2點 (取樣點) 之時間間隔 (time interval)  (sec)\n",
    "\n",
    "    t= n * Ts\n",
    "    x= 20 * np.cos(2 * π * (40) * t - 0.4 * π)\n",
    "    \n",
    "    pl.figure()\n",
    "    pl.grid(True)\n",
    "    pl.stem(t[0:int(100*.001/Ts)+1],x[0:int(100*.001/Ts)+1])\n",
    "    #pl.stem(n,x)\n",
    "    #pl.xlabel('n (sample)')\n",
    "    pl.xlabel('t (sec) ')\n",
    "    pl.ylabel('x = x(t) = x(n Ts) = x[n]')\n",
    "    pl.title('Ts= {} sec'.format(Ts))"
   ]
  },
  {
   "cell_type": "code",
   "execution_count": null,
   "metadata": {},
   "outputs": [],
   "source": [
    "n= np.arange(101) # n = 0 .. 100，整數\n",
    "\n",
    "Ts= 1/200\n",
    "# 任2點 (取樣點) 之時間間隔 (time interval)  (sec)\n",
    "\n",
    "t= n * Ts\n",
    "x= 20 * np.cos(2 * π * (40) * t - 0.4 * π)\n",
    "# x= 20 * np.cos(2 * π * (40 * Ts) * n - 0.4 * π)\n",
    "\n",
    "pl.grid(True)\n",
    "pl.stem(n,x)\n",
    "pl.xlabel('n (sample)')\n",
    "pl.ylabel('x = x(n Ts) = x[n]')"
   ]
  },
  {
   "cell_type": "code",
   "execution_count": null,
   "metadata": {},
   "outputs": [],
   "source": []
  }
 ],
 "metadata": {
  "kernelspec": {
   "display_name": "Python 3",
   "language": "python",
   "name": "python3"
  },
  "language_info": {
   "codemirror_mode": {
    "name": "ipython",
    "version": 3
   },
   "file_extension": ".py",
   "mimetype": "text/x-python",
   "name": "python",
   "nbconvert_exporter": "python",
   "pygments_lexer": "ipython3",
   "version": "3.6.5"
  }
 },
 "nbformat": 4,
 "nbformat_minor": 2
}
