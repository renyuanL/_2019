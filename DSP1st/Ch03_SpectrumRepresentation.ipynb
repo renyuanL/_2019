{
 "cells": [
  {
   "cell_type": "markdown",
   "metadata": {},
   "source": [
    "## Dsp 1st\n",
    "### Ch03  Spectrum Representation\n",
    "\n",
    "http://dspfirst.gatech.edu/database/?d=examples&chap=3"
   ]
  },
  {
   "cell_type": "markdown",
   "metadata": {},
   "source": []
  },
  {
   "attachments": {},
   "cell_type": "markdown",
   "metadata": {},
   "source": [
    "$$\n",
    "𝑥(𝑡)=\\sum_{𝑘=1}^𝑁 𝐴_𝑘  cos⁡( \\omega_0 𝑡 + \\phi_𝑘)\n",
    "$$\n",
    "\n",
    "----\n",
    "\n",
    "$\n",
    "𝑥(𝑡) = 𝐴_0  cos⁡( \\omega_0 𝑡 + \\phi_0)\n",
    "$\n",
    "\n",
    "----\n",
    "where,\n",
    "$\n",
    "\\begin{cases}\n",
    "X = \\sum_{𝑘=1}^𝑁 𝐴_𝑘  cos⁡(\\phi_𝑘)\n",
    "\\\\\n",
    "Y = \\sum_{𝑘=1}^𝑁 𝐴_𝑘  sin⁡(\\phi_𝑘)\n",
    "\\end{cases}\n",
    "$\n",
    "\n",
    "and then,\n",
    "$\n",
    "\\begin{cases}\n",
    "𝐴_0 = \\sqrt{X^2+Y^2}\n",
    "\\\\\n",
    "\\phi_0= arctan2(Y,X) = \n",
    "\\begin{cases} \n",
    "tan^{-1}(\\frac{Y}{X}) , \\quad & if X>0,   & \\phi_0 \\in (-\\pi/2, \\pi/2)\n",
    "\\\\\n",
    "tan^{-1}(\\frac{Y}{X}) -\\pi,   & if X<0, Y<0,   & \\phi_0 \\in (-\\pi, -\\pi/2)\n",
    "\\\\\n",
    "tan^{-1}(\\frac{Y}{X}) +\\pi,   & if X<0, Y>0,   & \\phi_0 \\in (\\pi/2, \\pi)\n",
    "\\end{cases}\n",
    "\\end{cases}\n",
    "$\n",
    "\n",
    "\n",
    "\n",
    "\n",
    "----\n",
    "\n",
    "$$\n",
    "𝑥(𝑡)=\\sum_{𝑘=1}^𝑁 𝐴_𝑘  cos⁡( \\omega_𝑘 𝑡 + \\phi_𝑘)\n",
    "$$\n",
    "\n",
    "----\n"
   ]
  },
  {
   "cell_type": "markdown",
   "metadata": {},
   "source": []
  },
  {
   "cell_type": "markdown",
   "metadata": {},
   "source": []
  },
  {
   "cell_type": "code",
   "execution_count": null,
   "metadata": {},
   "outputs": [],
   "source": []
  }
 ],
 "metadata": {
  "kernelspec": {
   "display_name": "Python 3",
   "language": "python",
   "name": "python3"
  },
  "language_info": {
   "codemirror_mode": {
    "name": "ipython",
    "version": 3
   },
   "file_extension": ".py",
   "mimetype": "text/x-python",
   "name": "python",
   "nbconvert_exporter": "python",
   "pygments_lexer": "ipython3",
   "version": "3.6.5"
  }
 },
 "nbformat": 4,
 "nbformat_minor": 2
}
