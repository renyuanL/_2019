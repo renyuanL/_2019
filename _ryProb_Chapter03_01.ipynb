{
  "nbformat": 4,
  "nbformat_minor": 0,
  "metadata": {
    "colab": {
      "name": "_ryProb_Chapter03_RandomVariablesProbabilityDistributions.ipynb",
      "version": "0.3.2",
      "provenance": []
    },
    "kernelspec": {
      "display_name": "Python 3",
      "language": "python",
      "name": "python3"
    }
  },
  "cells": [
    {
      "metadata": {
        "id": "iOtjCGTHiLxT",
        "colab_type": "text"
      },
      "cell_type": "markdown",
      "source": [
        "# Chapter 3:  \n",
        "## Random Variables and Probability Distributions \n",
        "## 隨機變數 & 機率分布"
      ]
    },
    {
      "metadata": {
        "id": "dhL4-gphiLxV",
        "colab_type": "text"
      },
      "cell_type": "markdown",
      "source": [
        "## 3.1 Concept of a Random Variable\n",
        "## 3.2 Discrete Probability Distributions \n",
        "## 3.3 Continuous Probability Distributions\n",
        "## Exercises\n",
        "\n",
        "## 3.4 Joint Probability Distributions \n",
        "## Exercises\n",
        "## Review Exercises\n",
        "\n",
        "## 3.5 Potential Misconceptions and Hazards; Relationship to Material in Other Chapters"
      ]
    },
    {
      "metadata": {
        "id": "9vGaE6-0iLxW",
        "colab_type": "text"
      },
      "cell_type": "markdown",
      "source": [
        "## 3.1 Concept of a Random Variable\n",
        "\n",
        "### Definition 3.1: 【Random Variable】 \n",
        "\n",
        "- A random variable is a function \n",
        "- that associates a real number \n",
        "- with each element\n",
        "- in the sample space\n",
        "\n",
        "We shall use a Capital letter, say $X$, \n",
        "to denote a random variable \n",
        "\n",
        "and its corresponding small letter, $x$ in this case, \n",
        "for one of its values.\n",
        "\n",
        "$\n",
        "x \\in X\n",
        "$\n",
        "    "
      ]
    },
    {
      "metadata": {
        "id": "sJaovet8iLxX",
        "colab_type": "text"
      },
      "cell_type": "markdown",
      "source": [
        "#### Example 3.1: \n",
        "Two balls are drawn in succession without replacement \n",
        "from an urn \n",
        "- containing 4 $\\color{red}{\"Red\"}$ (R) balls \n",
        "- and 3 $\\color{black}{\"Black\"}$ (B) balls. \n",
        "\n",
        "The possible outcomes and the values $y$ \n",
        "of the random variable $Y$ , \n",
        "where $Y$ is the number of $\\color{red}{\"Red\"}$ (R) balls, are\n",
        "\n",
        "|Sample Space| y|\n",
        "|:----|----:|\n",
        "|RR | 2|\n",
        "|RB | 1|\n",
        "|BR | 1|\n",
        "|BB | 0|\n"
      ]
    },
    {
      "metadata": {
        "id": "HoHJNk_viLxY",
        "colab_type": "text"
      },
      "cell_type": "markdown",
      "source": [
        "#### Example 3.3: 【a Bernoulli random variable】\n",
        "\n",
        "Consider the simple condition \n",
        "in which components are arriving \n",
        "from the production line \n",
        "and they are stipulated to be \"Defective\" or \"not Defective\". \n",
        "\n",
        "Define the random variable $X$ by\n",
        "\n",
        "$ \n",
        "X = \n",
        "\\begin{cases}\n",
        "  1, & \\text{if the component is \"Defective\",} \\\\\n",
        "  0, & \\text{if the component is \"not Defective\".}\n",
        "\\end{cases}\n",
        "$\n",
        "\n"
      ]
    },
    {
      "metadata": {
        "id": "pwrO7jhQiLxZ",
        "colab_type": "text"
      },
      "cell_type": "markdown",
      "source": [
        "#### Definition 3.2:  【Discrete sample space】\n",
        "\n",
        "If a sample space contains \n",
        "a finite number of possibilities \n",
        "or an unending sequence \n",
        "with as many elements as there are ** whole numbers**, \n",
        "it is called a **\"discrete\"** sample space.\n",
        "\n",
        "\n",
        "----\n",
        "\n",
        "- A random variable is called a **discrete** random variable if its set of possible outcomes is **countable**. \n",
        "- \n",
        "- The random variables in Examples 3.1 to 3.5 are discrete random variables. \n",
        "- \n",
        "- **discrete** random variables represent **count data**, \n",
        "    - such as the number of defectives in a sample of k items \n",
        "        - or the number of highway fatalities per year in a given state. \n",
        "        \n",
        "\n",
        "#### Definition 3.3:  【Continuous sample space】\n",
        "\n",
        "If a sample space contains \n",
        "an infinite number of possibilities \n",
        "equal to the number of points on a line segment, \n",
        "it is called a **\"continuous\"** sample space.\n",
        "\n",
        "\n",
        "----\n",
        "    \n",
        "- When a random variable can take on values on a continuous scale, it is called a **continuous** random variable. \n",
        "- \n",
        "- Obviously, the random variables described in Examples 3.6 and 3.7 are continuous random variables.\n",
        "- \n",
        "- In most practical problems, **continuous** random variables represent **measured data**, \n",
        "    - such as all possible heights, weights, temperatures, distance, or life periods, \n",
        "\n",
        "\n",
        "\n"
      ]
    },
    {
      "metadata": {
        "id": "4JWdHHFjiLxZ",
        "colab_type": "text"
      },
      "cell_type": "markdown",
      "source": [
        ""
      ]
    },
    {
      "metadata": {
        "id": "LRiBvgmDiLxa",
        "colab_type": "text"
      },
      "cell_type": "markdown",
      "source": [
        "## 3.2 Discrete Probability Distributions \n",
        "\n",
        "### Definition 3.4: \n",
        "\n",
        "The set of ordered pairs $(x, f(x))$ \n",
        "\n",
        "is a **probability function**, \n",
        "**probability mass function**, \n",
        "or **probability distribution** \n",
        "\n",
        "of the discrete random variable $X$,\n",
        "\n",
        "if, for each possible outcome $x$,\n",
        "$\n",
        "\\begin{cases}\n",
        "1.     f(x) ≥ 0,           \\\\\n",
        "2.     \\sum_{x} f(x) = 1 , \\\\\n",
        "3.     P( \"X = x\" ) = f(x)\n",
        "\\end{cases}\n",
        "$\n",
        "\n",
        "---\n",
        "\n",
        "#### Example 3.3: 【a Bernoulli random variable with a probability function】 \n",
        "\n",
        "Consider a random variable $X$ by\n",
        "\n",
        "$ \n",
        "X = \n",
        "\\begin{cases}\n",
        "  1, & \\text{with probability } p= 0.6 \\\\\n",
        "  0, & \\text{with probability } q= 1-p = 0.4\n",
        "\\end{cases}\n",
        "$\n",
        "\n",
        "\n",
        "|$x$|f($x$)|\n",
        "|---|---|\n",
        "| 1 | .6|\n",
        "| 0 | .4|\n",
        "\n",
        "\n"
      ]
    },
    {
      "metadata": {
        "id": "ysPe6-xqiLxb",
        "colab_type": "text"
      },
      "cell_type": "markdown",
      "source": [
        ""
      ]
    },
    {
      "metadata": {
        "id": "ghdjGkqtiLxc",
        "colab_type": "text"
      },
      "cell_type": "markdown",
      "source": [
        "### Example 3.8: \n",
        "\n",
        "A shipment of 20 similar laptop computers to a retail outlet \n",
        "contains 3 defective ones. \n",
        "\n",
        "If a school makes a random purchase of 2 of these computers, \n",
        "find the **probability distribution** \n",
        "for the \"number of defectives\".\n",
        "\n",
        "【sol】:\n",
        "\n",
        "Let X be a random variable \n",
        "* whose values x are the possible numbers \n",
        "* of defective computers \n",
        "* purchased by the school. \n",
        "\n",
        "Then x can only take the numbers 0, 1, and 2\n",
        "\n",
        "the probability distribution will as the following table:\n",
        "\n",
        "x:|0|1|2\n",
        "---|---|---|---\n",
        "f(x):| $p_0$|$p_1$|$p_2$\n",
        "\n",
        "接下來，我們得用到目前為止複習了的排列組合及機率的技巧，\n",
        "分別把　$p_0, p_1, p_2$ 計算出來。\n",
        "\n",
        "![image.png](attachment:image.png)\n",
        "\n",
        "therefore the probability distribution is as follows：\n",
        "\n",
        "x:|0|1|2\n",
        "---|---|---|---\n",
        "f(x):| 68/95|51/190|3/190\n",
        "\n",
        "and verify that 68/95 + 51/190 + 3/190 == 1\n"
      ]
    },
    {
      "metadata": {
        "id": "zcJKG11piLxd",
        "colab_type": "text"
      },
      "cell_type": "markdown",
      "source": [
        ""
      ]
    },
    {
      "metadata": {
        "id": "oXilYj7CiLxd",
        "colab_type": "code",
        "colab": {}
      },
      "cell_type": "code",
      "source": [
        "68/95 + 51/190 + 3/190"
      ],
      "execution_count": 0,
      "outputs": []
    },
    {
      "metadata": {
        "id": "N-B6uqgJiLxh",
        "colab_type": "text"
      },
      "cell_type": "markdown",
      "source": [
        "### Definition 3.5: 【cumulative distribution function, cdf】\n",
        "\n",
        "- The cumulative distribution function $F(x)$ \n",
        "- of a discrete random variable $X$\n",
        "- with probability distribution $f(x)$ \n",
        "- is\n",
        "- \n",
        "$$\n",
        "F(x) \\equiv P( \"X ≤ x\" ) \n",
        "= \\sum_{t ≤ x} f(t), \\\\ \n",
        "for −∞ < x < ∞.\n",
        "$$"
      ]
    },
    {
      "metadata": {
        "id": "myQOJl09iLxh",
        "colab_type": "text"
      },
      "cell_type": "markdown",
      "source": [
        "### Example 3.9:\n",
        "\n",
        "- If a car agency sells 50% of its inventory \n",
        "- of a certain foreign car \n",
        "- equipped with side airbags, \n",
        "- \n",
        "- find a formula \n",
        "- for the probability distribution \n",
        "- of the number of cars with side airbags \n",
        "- among the next 4 cars \n",
        "- sold by the agency.\n",
        "\n",
        "----\n",
        "\n",
        "【sol】\n",
        "\n",
        "the probability distribution \n",
        "\n",
        "$\n",
        "f(x) \\equiv P(\"X = x\")\n",
        "= (.50)^4 \\times {4 \\choose x}\n",
        "$\n",
        "\n",
        "for $x$ = 0, 1, 2, 3, 4."
      ]
    },
    {
      "metadata": {
        "id": "PS5Q07dWiLxi",
        "colab_type": "text"
      },
      "cell_type": "markdown",
      "source": [
        "![image.png](attachment:image.png)"
      ]
    },
    {
      "metadata": {
        "id": "9U0JQQaxiLxj",
        "colab_type": "text"
      },
      "cell_type": "markdown",
      "source": [
        "![image.png](attachment:image.png)"
      ]
    },
    {
      "metadata": {
        "id": "pt8E9sOAiLxk",
        "colab_type": "code",
        "colab": {},
        "outputId": "61efbf9a-374a-45bd-c6fb-ccea5422d56e"
      },
      "cell_type": "code",
      "source": [
        "from scipy.special import comb\n",
        "import matplotlib.pyplot  as plt\n",
        "\n",
        "def f(x):\n",
        "    y= .5**4 * comb(4, x)\n",
        "    return y\n",
        "\n",
        "x= [0, 1, 2, 3, 4]\n",
        "y= f(x)\n",
        "print(x, y)\n",
        "\n",
        "plt.stem(x, y)\n",
        "plt.grid()\n"
      ],
      "execution_count": 0,
      "outputs": [
        {
          "output_type": "stream",
          "text": [
            "[0, 1, 2, 3, 4] [ 0.0625  0.25    0.375   0.25    0.0625]\n"
          ],
          "name": "stdout"
        }
      ]
    },
    {
      "metadata": {
        "id": "Cl2sVbxniLxo",
        "colab_type": "code",
        "colab": {},
        "outputId": "8d2a11c1-853e-4399-b3be-e80a8c88d6eb"
      },
      "cell_type": "code",
      "source": [
        "plt.bar(x, y, width=.99)\n",
        "plt.grid()"
      ],
      "execution_count": 0,
      "outputs": [
        {
          "output_type": "display_data",
          "data": {
            "image/png": "[encoded data removed]",
            "text/plain": [
              "<Figure size 432x288 with 1 Axes>"
            ]
          },
          "metadata": {
            "tags": []
          }
        }
      ]
    },
    {
      "metadata": {
        "id": "aK8b6XXoiLxr",
        "colab_type": "code",
        "colab": {}
      },
      "cell_type": "code",
      "source": [
        "#help(plt.bar)"
      ],
      "execution_count": 0,
      "outputs": []
    },
    {
      "metadata": {
        "id": "C3uUVi0tiLxu",
        "colab_type": "text"
      },
      "cell_type": "markdown",
      "source": [
        "\n",
        "### Example 3.10:\n",
        "\n",
        "- Find the cumulative distribution function \n",
        "- of the random variable X \n",
        "- in Example 3.9. \n",
        "- Using F(x), verify that f(2) = 3/8.\n",
        "\n",
        "----\n",
        "\n",
        "【sol】"
      ]
    },
    {
      "metadata": {
        "id": "Yjj9rUo4iLxv",
        "colab_type": "text"
      },
      "cell_type": "markdown",
      "source": [
        "\n",
        "x: |0| 1| 2| 3| 4| \n",
        "---| ---| ---| ---| ---|\n",
        "f(x):|0.0625|  0.2500|    0.3750|   0.2500|    0.0625|\n",
        "F(x):|0.0625| 0.3125| 0.6875| 0.9375| 1.0000|\n",
        "\n",
        "----\n",
        "$\n",
        "f(x) = F(x)- F(x-1)\n",
        "\\\\\n",
        "f(2) = F(2) - F(1) =.6875 - .3125 == .3750\n",
        "$"
      ]
    },
    {
      "metadata": {
        "id": "3mPFbX3yiLxw",
        "colab_type": "text"
      },
      "cell_type": "markdown",
      "source": [
        "![image.png](attachment:image.png)"
      ]
    },
    {
      "metadata": {
        "id": "JM71VeKIiLxw",
        "colab_type": "text"
      },
      "cell_type": "markdown",
      "source": [
        ""
      ]
    },
    {
      "metadata": {
        "id": "Y8gq4WZLiLxx",
        "colab_type": "code",
        "colab": {},
        "outputId": "4c985701-20b1-4242-b18c-6c8cf40b8b4d"
      },
      "cell_type": "code",
      "source": [
        "F=[y[0],0,0,0,0]\n",
        "for n in [1,2,3,4]:\n",
        "    F[n]= F[n-1]+y[n]\n",
        "print(F)"
      ],
      "execution_count": 0,
      "outputs": [
        {
          "output_type": "stream",
          "text": [
            "[0.0625, 0.3125, 0.6875, 0.9375, 1.0]\n"
          ],
          "name": "stdout"
        }
      ]
    },
    {
      "metadata": {
        "id": "_ZLqqp_PiLx2",
        "colab_type": "text"
      },
      "cell_type": "markdown",
      "source": [
        "## 3.3 Continuous Probability Distributions"
      ]
    },
    {
      "metadata": {
        "id": "4UNjOUBviLx3",
        "colab_type": "text"
      },
      "cell_type": "markdown",
      "source": [
        "A **continuous** random variable $X$ has a probability of 0 \n",
        "of assuming exactly any of its values $x$. \n",
        "\n",
        "$\n",
        "P(\"X = x\") = 0\n",
        "$\n",
        "\n",
        "----\n",
        "\n",
        "$\n",
        "P(\"x_1 \\le X \\le x_2\") \n",
        "\\\\= P(\"x_1 \\lt X \\le x_2\") \n",
        "\\\\= P(\"x_1 \\le X \\lt x_2\") \n",
        "\\\\= P(\"x_1 \\lt X \\lt x_2\") \n",
        "$"
      ]
    },
    {
      "metadata": {
        "id": "1QZEvwJ_iLx4",
        "colab_type": "text"
      },
      "cell_type": "markdown",
      "source": [
        "- Although the 【probability distribution】 of a continuous random variable cannot be presented in tabular form, it can be stated as a 【formula】. \n",
        "- \n",
        "- Such a formula would necessarily be a function of the numerical values of the continuous random variable X and as such will be represented by the functional notation \n",
        "- \n",
        "-\n",
        "$$f(x)$$\n",
        "\n",
        "- \n",
        "- \n",
        "- In dealing with continuous variables, $f(x)$ is usually called the 【probability density function, pdf】, or simply the density function, of $X$. \n",
        "- \n",
        "- Since $X$ is defined over a continuous sample space, it is possible for $f(x)$ to have *a finite number* of \"discontinuities\". \n",
        "- \n",
        "- However, most density functions that have practical applications in the analysis of statistical data are continuous and their graphs may take any of several forms, some of which are shown in Figure 3.4. \n",
        "- \n",
        "- Because areas will be used to represent probabilities and probabilities are positive numerical values, the density function must lie entirely above the x axis.\n",
        "\n",
        "![Figure 3.4: Typical density functions.](attachment:image.png)\n"
      ]
    },
    {
      "metadata": {
        "id": "wxpeB7Y4iLx5",
        "colab_type": "text"
      },
      "cell_type": "markdown",
      "source": [
        "- In Figure 3.5, \n",
        "- the probability that X assumes a value between a and b \n",
        "- is equal to the shaded area\n",
        "- under the density function \n",
        "- between the ordinates at x = a and x = b, \n",
        "- and from integral calculus is given by\n",
        "\n",
        "$\n",
        "P(a < X < b) = \\int_a^b f(x) dx\n",
        "$\n"
      ]
    },
    {
      "metadata": {
        "id": "qCZhWZ9QiLx6",
        "colab_type": "text"
      },
      "cell_type": "markdown",
      "source": [
        ""
      ]
    },
    {
      "metadata": {
        "id": "-40yka9FiLx6",
        "colab_type": "text"
      },
      "cell_type": "markdown",
      "source": [
        "## Exercises"
      ]
    },
    {
      "metadata": {
        "id": "Cgk-4MBniLx7",
        "colab_type": "text"
      },
      "cell_type": "markdown",
      "source": [
        ""
      ]
    },
    {
      "metadata": {
        "id": "YdtDJk3jiLx8",
        "colab_type": "text"
      },
      "cell_type": "markdown",
      "source": [
        ""
      ]
    },
    {
      "metadata": {
        "id": "NINwsKjFiLx8",
        "colab_type": "text"
      },
      "cell_type": "markdown",
      "source": [
        ""
      ]
    },
    {
      "metadata": {
        "id": "nrMMzfjwiLx9",
        "colab_type": "text"
      },
      "cell_type": "markdown",
      "source": [
        ""
      ]
    },
    {
      "metadata": {
        "id": "CKM-oPcqiLx9",
        "colab_type": "text"
      },
      "cell_type": "markdown",
      "source": [
        "## 3.4 Joint Probability Distributions "
      ]
    },
    {
      "metadata": {
        "id": "69hKB5W0iLx-",
        "colab_type": "text"
      },
      "cell_type": "markdown",
      "source": [
        ""
      ]
    },
    {
      "metadata": {
        "id": "GhUS6BHDiLx_",
        "colab_type": "text"
      },
      "cell_type": "markdown",
      "source": [
        ""
      ]
    },
    {
      "metadata": {
        "id": "Fp2F9btIiLyA",
        "colab_type": "text"
      },
      "cell_type": "markdown",
      "source": [
        ""
      ]
    },
    {
      "metadata": {
        "id": "Jz1Q2BIPiLyC",
        "colab_type": "text"
      },
      "cell_type": "markdown",
      "source": [
        ""
      ]
    },
    {
      "metadata": {
        "id": "vkj-2mH8iLyD",
        "colab_type": "text"
      },
      "cell_type": "markdown",
      "source": [
        "## Exercises"
      ]
    },
    {
      "metadata": {
        "id": "3lcxFQliiLyE",
        "colab_type": "text"
      },
      "cell_type": "markdown",
      "source": [
        ""
      ]
    },
    {
      "metadata": {
        "id": "R0ifAwmuiLyE",
        "colab_type": "text"
      },
      "cell_type": "markdown",
      "source": [
        ""
      ]
    },
    {
      "metadata": {
        "id": "D5ok2VFUiLyF",
        "colab_type": "text"
      },
      "cell_type": "markdown",
      "source": [
        ""
      ]
    },
    {
      "metadata": {
        "id": "pLHm6BTtiLyH",
        "colab_type": "text"
      },
      "cell_type": "markdown",
      "source": [
        ""
      ]
    },
    {
      "metadata": {
        "id": "ft-lRvgoiLyH",
        "colab_type": "text"
      },
      "cell_type": "markdown",
      "source": [
        "## Review Exercises"
      ]
    },
    {
      "metadata": {
        "id": "bL-KJ9CiiLyI",
        "colab_type": "text"
      },
      "cell_type": "markdown",
      "source": [
        ""
      ]
    },
    {
      "metadata": {
        "id": "w29SSXM8iLyJ",
        "colab_type": "text"
      },
      "cell_type": "markdown",
      "source": [
        ""
      ]
    },
    {
      "metadata": {
        "id": "ZywvV29fiLyK",
        "colab_type": "text"
      },
      "cell_type": "markdown",
      "source": [
        ""
      ]
    },
    {
      "metadata": {
        "id": "2gT8B1uSiLyM",
        "colab_type": "text"
      },
      "cell_type": "markdown",
      "source": [
        ""
      ]
    },
    {
      "metadata": {
        "id": "cQevco_-iLyN",
        "colab_type": "text"
      },
      "cell_type": "markdown",
      "source": [
        "## 3.5 Potential Misconceptions and Hazards; Relationship to Material in Other Chapters"
      ]
    },
    {
      "metadata": {
        "id": "DPPtAYafiLyO",
        "colab_type": "text"
      },
      "cell_type": "markdown",
      "source": [
        ""
      ]
    }
  ]
}