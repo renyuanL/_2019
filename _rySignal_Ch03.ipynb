{
 "cells": [
  {
   "cell_type": "markdown",
   "metadata": {},
   "source": [
    "# Signal_Ch03: SpectrumRepresentation\n",
    "\n",
    "## Periodic Signals, Harmonics & Time-Varying Sinusoids"
   ]
  },
  {
   "cell_type": "markdown",
   "metadata": {},
   "source": [
    "### Signals Studied So Far\n",
    "\n",
    "1.  1 Sinusoid with 1 frequency,  𝜔 <br> \n",
    "$\n",
    "𝑥(𝑡)=𝐴 \\, cos⁡(𝜔𝑡+𝜙)  \\quad ...(1)\n",
    "$"
   ]
  },
  {
   "cell_type": "markdown",
   "metadata": {},
   "source": [
    "2. N Sinusoids with 1 frequency, $𝜔_0$ <br>\n",
    "$\n",
    "𝑥(𝑡)\n",
    "= ∑_{𝑘=1}^{𝑁} (𝐴_𝑘  cos⁡( 𝜔_0 𝑡 + 𝜙_𝑘)) = 𝐴 \\, cos⁡( 𝜔_0 𝑡+𝜙) \\quad ...(2)\n",
    "$"
   ]
  },
  {
   "attachments": {},
   "cell_type": "markdown",
   "metadata": {},
   "source": [
    "3. N Sinusoids with N frequencies, $𝜔_1, 𝜔_2, ..., 𝜔_N$ <br>\n",
    "$\n",
    "𝑥(𝑡)\n",
    "=𝐴_0 + ∑_{𝑘=1}^{𝑁} (𝐴_𝑘  cos⁡( 𝜔_𝑘 𝑡+𝜙_𝑘)) \\quad ...(3)\n",
    "$"
   ]
  },
  {
   "cell_type": "markdown",
   "metadata": {},
   "source": [
    "Let \n",
    "$\n",
    "\\omega_k = \\omega_0 \\times k = k \\omega_0\n",
    "$\n",
    "\n",
    "\n",
    "$\n",
    "(3) \n",
    "\\rightarrow\n",
    "𝑥(𝑡)\n",
    "= 𝐴_0 + ∑_{𝑘=1}^{𝑁} (𝐴_𝑘  cos⁡( k \\omega_0 𝑡+𝜙_𝑘))  \\quad ... (4)\n",
    "$"
   ]
  },
  {
   "attachments": {},
   "cell_type": "markdown",
   "metadata": {},
   "source": [
    "----\n",
    "### Ex \n",
    "\n",
    "plotting the following signal,\n",
    "\n",
    "$\n",
    "x(t) = cos(10 \\pi t) + cos(20 \\pi t)\n",
    "$\n",
    "\n",
    "----"
   ]
  },
  {
   "cell_type": "code",
   "execution_count": null,
   "metadata": {},
   "outputs": [],
   "source": [
    "import numpy as np\n",
    "import matplotlib.pyplot as plt\n",
    "%matplotlib inline\n",
    "π=   np.pi\n",
    "cos= np.cos\n",
    "\n",
    "# x(t) = cos(10 \\pi t) + cos(20 \\pi t)\n",
    "t= np.linspace(0, 1, 1001)\n",
    "x= cos(10 *π *t) + cos(20 *π *t)\n",
    "\n",
    "plt.plot(t,x)\n",
    "plt.grid(True)"
   ]
  },
  {
   "cell_type": "markdown",
   "metadata": {},
   "source": [
    "----\n",
    "\n",
    "$\n",
    "x(t) \n",
    "\\\\ = cos(10 \\pi t) \n",
    "\\\\ + cos(20 \\pi t) \n",
    "\\\\ + cos(30 \\pi t) \n",
    "\\\\ + cos(40 \\pi t) \n",
    "\\\\ + cos(50 \\pi t) \n",
    "$"
   ]
  },
  {
   "cell_type": "code",
   "execution_count": null,
   "metadata": {},
   "outputs": [],
   "source": [
    "# x(t) = cos(10 \\pi t) + cos(20 \\pi t)\n",
    "t= np.linspace(0, 1, 1001)\n",
    "\n",
    "x= np.zeros(len(t))\n",
    "\n",
    "for k in range(1, 6):\n",
    "    x += cos(k * 10 *π *t)\n",
    "    \n",
    "    plt.figure()\n",
    "    plt.title('k={}'.format(k))\n",
    "    plt.plot(t,x)\n",
    "    plt.grid(True)\n",
    "\n",
    "\n"
   ]
  },
  {
   "cell_type": "code",
   "execution_count": null,
   "metadata": {},
   "outputs": [],
   "source": []
  }
 ],
 "metadata": {
  "kernelspec": {
   "display_name": "Python 3",
   "language": "python",
   "name": "python3"
  },
  "language_info": {
   "codemirror_mode": {
    "name": "ipython",
    "version": 3
   },
   "file_extension": ".py",
   "mimetype": "text/x-python",
   "name": "python",
   "nbconvert_exporter": "python",
   "pygments_lexer": "ipython3",
   "version": "3.6.5"
  }
 },
 "nbformat": 4,
 "nbformat_minor": 2
}
