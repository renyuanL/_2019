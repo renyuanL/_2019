{
 "cells": [
  {
   "cell_type": "markdown",
   "metadata": {},
   "source": [
    "# Chapter 3:  Random Variables and Probability Distributions "
   ]
  },
  {
   "cell_type": "markdown",
   "metadata": {},
   "source": [
    "## 3.1 Concept of a Random Variable\n",
    "## 3.2 Discrete Probability Distributions \n",
    "## 3.3 Continuous Probability Distributions\n",
    "## Exercises\n",
    "\n",
    "## 3.4 Joint Probability Distributions \n",
    "## Exercises\n",
    "## Review Exercises\n",
    "\n",
    "## 3.5 Potential Misconceptions and Hazards; Relationship to Material in Other Chapters"
   ]
  },
  {
   "cell_type": "markdown",
   "metadata": {},
   "source": [
    "## 3.1 Concept of a Random Variable\n",
    "\n",
    "### Definition 3.1: 【Random Variable】 \n",
    "\n",
    "- A random variable is a function \n",
    "- that associates a real number \n",
    "- with each element\n",
    "- in the sample space\n",
    "\n",
    "We shall use a Capital letter, say $X$, \n",
    "to denote a random variable \n",
    "\n",
    "and its corresponding small letter, $x$ in this case, \n",
    "for one of its values.\n",
    "\n",
    "$\n",
    "x \\in X\n",
    "$\n",
    "    "
   ]
  },
  {
   "cell_type": "markdown",
   "metadata": {},
   "source": [
    "#### Example 3.1: \n",
    "Two balls are drawn in succession without replacement \n",
    "from an urn \n",
    "- containing 4 $\\color{red}{\"Red\"}$ (R) balls \n",
    "- and 3 $\\color{black}{\"Black\"}$ (B) balls. \n",
    "\n",
    "The possible outcomes and the values $y$ \n",
    "of the random variable $Y$ , \n",
    "where $Y$ is the number of $\\color{red}{\"Red\"}$ (R) balls, are\n",
    "\n",
    "|Sample Space| y|\n",
    "|:----|----:|\n",
    "|RR | 2|\n",
    "|RB | 1|\n",
    "|BR | 1|\n",
    "|BB | 0|\n"
   ]
  },
  {
   "cell_type": "markdown",
   "metadata": {},
   "source": [
    "#### Example 3.3: 【a Bernoulli random variable】\n",
    "\n",
    "Consider the simple condition \n",
    "in which components are arriving \n",
    "from the production line \n",
    "and they are stipulated to be \"Defective\" or \"not Defective\". \n",
    "\n",
    "Define the random variable $X$ by\n",
    "\n",
    "$ \n",
    "X = \n",
    "\\begin{cases}\n",
    "  1, & \\text{if the component is \"Defective\",} \\\\\n",
    "  0, & \\text{if the component is \"not Defective\".}\n",
    "\\end{cases}\n",
    "$\n",
    "\n"
   ]
  },
  {
   "cell_type": "markdown",
   "metadata": {},
   "source": [
    "#### Definition 3.2:  【Discrete sample space】\n",
    "\n",
    "If a sample space contains \n",
    "a finite number of possibilities \n",
    "or an unending sequence \n",
    "with as many elements as there are ** whole numbers**, \n",
    "it is called a **\"discrete\"** sample space.\n",
    "\n",
    "\n",
    "----\n",
    "\n",
    "- A random variable is called a **discrete** random variable if its set of possible outcomes is **countable**. \n",
    "- \n",
    "- The random variables in Examples 3.1 to 3.5 are discrete random variables. \n",
    "- \n",
    "- **discrete** random variables represent **count data**, \n",
    "    - such as the number of defectives in a sample of k items \n",
    "        - or the number of highway fatalities per year in a given state. \n",
    "        \n",
    "\n",
    "#### Definition 3.3:  【Continuous sample space】\n",
    "\n",
    "If a sample space contains \n",
    "an infinite number of possibilities \n",
    "equal to the number of points on a line segment, \n",
    "it is called a **\"continuous\"** sample space.\n",
    "\n",
    "\n",
    "----\n",
    "    \n",
    "- When a random variable can take on values on a continuous scale, it is called a **continuous** random variable. \n",
    "- \n",
    "- Obviously, the random variables described in Examples 3.6 and 3.7 are continuous random variables.\n",
    "- \n",
    "- In most practical problems, **continuous** random variables represent **measured data**, \n",
    "    - such as all possible heights, weights, temperatures, distance, or life periods, \n",
    "\n",
    "\n",
    "\n"
   ]
  },
  {
   "cell_type": "markdown",
   "metadata": {},
   "source": []
  },
  {
   "cell_type": "markdown",
   "metadata": {},
   "source": [
    "## 3.2 Discrete Probability Distributions \n",
    "\n",
    "### Definition 3.4: \n",
    "\n",
    "The set of ordered pairs $(x, f(x))$ \n",
    "\n",
    "is a **probability function**, \n",
    "**probability mass function**, \n",
    "or **probability distribution** \n",
    "\n",
    "of the discrete random variable $X$,\n",
    "\n",
    "if, for each possible outcome $x$,\n",
    "$\n",
    "\\begin{cases}\n",
    "1.     f(x) ≥ 0,           \\\\\n",
    "2.     \\sum_{x} f(x) = 1 , \\\\\n",
    "3.     P( \"X = x\" ) = f(x)\n",
    "\\end{cases}\n",
    "$\n",
    "\n",
    "---\n",
    "\n",
    "#### Example 3.3: 【a Bernoulli random variable with a probability function】 \n",
    "\n",
    "Consider a random variable $X$ by\n",
    "\n",
    "$ \n",
    "X = \n",
    "\\begin{cases}\n",
    "  1, & \\text{with probability } p= 0.6 \\\\\n",
    "  0, & \\text{with probability } q= 1-p = 0.4\n",
    "\\end{cases}\n",
    "$\n",
    "\n",
    "\n",
    "|$x$|f($x$)|\n",
    "|---|---|\n",
    "| 1 | .6|\n",
    "| 0 | .4|\n",
    "\n",
    "\n"
   ]
  },
  {
   "cell_type": "markdown",
   "metadata": {},
   "source": []
  },
  {
   "attachments": {
    "image.png": {
     "image/png": "[encoded data removed]"
    }
   },
   "cell_type": "markdown",
   "metadata": {},
   "source": [
    "### Example 3.8: \n",
    "\n",
    "A shipment of 20 similar laptop computers to a retail outlet \n",
    "contains 3 defective ones. \n",
    "\n",
    "If a school makes a random purchase of 2 of these computers, \n",
    "find the **probability distribution** \n",
    "for the \"number of defectives\".\n",
    "\n",
    "【sol】:\n",
    "\n",
    "Let X be a random variable \n",
    "* whose values x are the possible numbers \n",
    "* of defective computers \n",
    "* purchased by the school. \n",
    "\n",
    "Then x can only take the numbers 0, 1, and 2\n",
    "\n",
    "the probability distribution will as the following table:\n",
    "\n",
    "x:|0|1|2\n",
    "---|---|---|---\n",
    "f(x):| $p_0$|$p_1$|$p_2$\n",
    "\n",
    "接下來，我們得用到目前為止複習了的排列組合及機率的技巧，\n",
    "分別把　$p_0, p_1, p_2$ 計算出來。\n",
    "\n",
    "![image.png](attachment:image.png)\n",
    "\n",
    "therefore the probability distribution is as follows：\n",
    "\n",
    "x:|0|1|2\n",
    "---|---|---|---\n",
    "f(x):| 68/95|51/190|3/190\n",
    "\n",
    "and verify that 68/95 + 51/190 + 3/190 == 1\n"
   ]
  },
  {
   "cell_type": "markdown",
   "metadata": {},
   "source": []
  },
  {
   "cell_type": "code",
   "execution_count": 3,
   "metadata": {},
   "outputs": [
    {
     "data": {
      "text/plain": [
       "1.0"
      ]
     },
     "execution_count": 3,
     "metadata": {},
     "output_type": "execute_result"
    }
   ],
   "source": [
    "68/95 + 51/190 + 3/190"
   ]
  },
  {
   "cell_type": "markdown",
   "metadata": {},
   "source": [
    "### Definition 3.5: 【cumulative distribution function, cdf】\n",
    "\n",
    "- The cumulative distribution function $F(x)$ \n",
    "- of a discrete random variable $X$\n",
    "- with probability distribution $f(x)$ \n",
    "- is\n",
    "- \n",
    "$$\n",
    "F(x) \\equiv P( \"X ≤ x\" ) \n",
    "= \\sum_{t ≤ x} f(t), \\\\ \n",
    "for −∞ < x < ∞.\n",
    "$$"
   ]
  },
  {
   "cell_type": "markdown",
   "metadata": {},
   "source": [
    "### Example 3.9:\n",
    "\n",
    "- If a car agency sells 50% of its inventory \n",
    "- of a certain foreign car \n",
    "- equipped with side airbags, \n",
    "- \n",
    "- find a formula \n",
    "- for the probability distribution \n",
    "- of the number of cars with side airbags \n",
    "- among the next 4 cars \n",
    "- sold by the agency.\n",
    "\n",
    "----\n",
    "\n",
    "【sol】\n",
    "\n",
    "the probability distribution \n",
    "\n",
    "$\n",
    "f(x) \\equiv P(\"X = x\")\n",
    "= (.50)^4 \\times {4 \\choose x}\n",
    "$\n",
    "\n",
    "for $x$ = 0, 1, 2, 3, 4."
   ]
  },
  {
   "attachments": {
    "image.png": {
     "image/png": "[encoded data removed]"
    }
   },
   "cell_type": "markdown",
   "metadata": {},
   "source": [
    "![image.png](attachment:image.png)"
   ]
  },
  {
   "attachments": {
    "image.png": {
     "image/png": "[encoded data removed]"
    }
   },
   "cell_type": "markdown",
   "metadata": {},
   "source": [
    "![image.png](attachment:image.png)"
   ]
  },
  {
   "cell_type": "code",
   "execution_count": 23,
   "metadata": {},
   "outputs": [
    {
     "name": "stdout",
     "output_type": "stream",
     "text": [
      "[0, 1, 2, 3, 4] [ 0.0625  0.25    0.375   0.25    0.0625]\n"
     ]
    },
    {
     "data": {
      "image/png": "[encoded data removed]",
      "text/plain": [
       "<Figure size 432x288 with 1 Axes>"
      ]
     },
     "metadata": {},
     "output_type": "display_data"
    }
   ],
   "source": [
    "from scipy.special import comb\n",
    "import matplotlib.pyplot  as plt\n",
    "\n",
    "def f(x):\n",
    "    y= .5**4 * comb(4, x)\n",
    "    return y\n",
    "\n",
    "x= [0, 1, 2, 3, 4]\n",
    "y= f(x)\n",
    "print(x, y)\n",
    "\n",
    "plt.stem(x, y)\n",
    "plt.grid()\n"
   ]
  },
  {
   "cell_type": "code",
   "execution_count": 17,
   "metadata": {},
   "outputs": [
    {
     "data": {
      "image/png": "[encoded data removed]",
      "text/plain": [
       "<Figure size 432x288 with 1 Axes>"
      ]
     },
     "metadata": {},
     "output_type": "display_data"
    }
   ],
   "source": [
    "plt.bar(x, y, width=.99)\n",
    "plt.grid()"
   ]
  },
  {
   "cell_type": "code",
   "execution_count": 18,
   "metadata": {},
   "outputs": [],
   "source": [
    "#help(plt.bar)"
   ]
  },
  {
   "cell_type": "markdown",
   "metadata": {},
   "source": [
    "\n",
    "### Example 3.10:\n",
    "\n",
    "- Find the cumulative distribution function \n",
    "- of the random variable X \n",
    "- in Example 3.9. \n",
    "- Using F(x), verify that f(2) = 3/8.\n",
    "\n",
    "----\n",
    "\n",
    "【sol】"
   ]
  },
  {
   "cell_type": "markdown",
   "metadata": {},
   "source": [
    "\n",
    "x: |0| 1| 2| 3| 4| \n",
    "---| ---| ---| ---| ---|\n",
    "f(x):|0.0625|  0.2500|    0.3750|   0.2500|    0.0625|\n",
    "F(x):|0.0625| 0.3125| 0.6875| 0.9375| 1.0000|\n",
    "\n",
    "----\n",
    "$\n",
    "f(x) = F(x)- F(x-1)\n",
    "\\\\\n",
    "f(2) = F(2) - F(1) =.6875 - .3125 == .3750\n",
    "$"
   ]
  },
  {
   "attachments": {
    "image.png": {
     "image/png": "[encoded data removed]"
    }
   },
   "cell_type": "markdown",
   "metadata": {},
   "source": [
    "![image.png](attachment:image.png)"
   ]
  },
  {
   "cell_type": "markdown",
   "metadata": {},
   "source": []
  },
  {
   "cell_type": "code",
   "execution_count": 24,
   "metadata": {},
   "outputs": [
    {
     "name": "stdout",
     "output_type": "stream",
     "text": [
      "[0.0625, 0.3125, 0.6875, 0.9375, 1.0]\n"
     ]
    }
   ],
   "source": [
    "F=[y[0],0,0,0,0]\n",
    "for n in [1,2,3,4]:\n",
    "    F[n]= F[n-1]+y[n]\n",
    "print(F)"
   ]
  },
  {
   "cell_type": "markdown",
   "metadata": {},
   "source": [
    "## 3.3 Continuous Probability Distributions"
   ]
  },
  {
   "cell_type": "markdown",
   "metadata": {},
   "source": []
  },
  {
   "cell_type": "markdown",
   "metadata": {},
   "source": []
  },
  {
   "cell_type": "markdown",
   "metadata": {},
   "source": []
  },
  {
   "cell_type": "markdown",
   "metadata": {},
   "source": []
  },
  {
   "cell_type": "markdown",
   "metadata": {},
   "source": [
    "## Exercises"
   ]
  },
  {
   "cell_type": "markdown",
   "metadata": {},
   "source": []
  },
  {
   "cell_type": "markdown",
   "metadata": {},
   "source": []
  },
  {
   "cell_type": "markdown",
   "metadata": {},
   "source": []
  },
  {
   "cell_type": "markdown",
   "metadata": {},
   "source": []
  },
  {
   "cell_type": "markdown",
   "metadata": {},
   "source": [
    "## 3.4 Joint Probability Distributions "
   ]
  },
  {
   "cell_type": "markdown",
   "metadata": {},
   "source": []
  },
  {
   "cell_type": "markdown",
   "metadata": {},
   "source": []
  },
  {
   "cell_type": "markdown",
   "metadata": {},
   "source": []
  },
  {
   "cell_type": "markdown",
   "metadata": {},
   "source": []
  },
  {
   "cell_type": "markdown",
   "metadata": {},
   "source": [
    "## Exercises"
   ]
  },
  {
   "cell_type": "markdown",
   "metadata": {},
   "source": []
  },
  {
   "cell_type": "markdown",
   "metadata": {},
   "source": []
  },
  {
   "cell_type": "markdown",
   "metadata": {},
   "source": []
  },
  {
   "cell_type": "markdown",
   "metadata": {},
   "source": []
  },
  {
   "cell_type": "markdown",
   "metadata": {},
   "source": [
    "## Review Exercises"
   ]
  },
  {
   "cell_type": "markdown",
   "metadata": {},
   "source": []
  },
  {
   "cell_type": "markdown",
   "metadata": {},
   "source": []
  },
  {
   "cell_type": "markdown",
   "metadata": {},
   "source": []
  },
  {
   "cell_type": "markdown",
   "metadata": {},
   "source": []
  },
  {
   "cell_type": "markdown",
   "metadata": {},
   "source": [
    "## 3.5 Potential Misconceptions and Hazards; Relationship to Material in Other Chapters"
   ]
  },
  {
   "cell_type": "markdown",
   "metadata": {},
   "source": []
  }
 ],
 "metadata": {
  "kernelspec": {
   "display_name": "Python 3",
   "language": "python",
   "name": "python3"
  },
  "language_info": {
   "codemirror_mode": {
    "name": "ipython",
    "version": 3
   },
   "file_extension": ".py",
   "mimetype": "text/x-python",
   "name": "python",
   "nbconvert_exporter": "python",
   "pygments_lexer": "ipython3",
   "version": "3.6.5"
  }
 },
 "nbformat": 4,
 "nbformat_minor": 2
}
