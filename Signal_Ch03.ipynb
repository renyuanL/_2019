{
 "cells": [
  {
   "cell_type": "markdown",
   "metadata": {},
   "source": [
    "# Signal_Ch03 SpectrumRepresentation\n",
    "\n",
    "## Periodic Signals, Harmonics & Time-Varying Sinusoids"
   ]
  },
  {
   "cell_type": "markdown",
   "metadata": {},
   "source": [
    "### Signals Studied So Far\n",
    "\n",
    "1.  \n",
    "$\n",
    "𝑥(𝑡)=𝐴 \\, cos⁡(𝜔𝑡+𝜙)  \\quad ...(1)\n",
    "$"
   ]
  },
  {
   "cell_type": "markdown",
   "metadata": {},
   "source": [
    "2. \n",
    "$\n",
    "𝑥(𝑡)\n",
    "= ∑_{𝑘=1}^{𝑁} (𝐴_𝑘  cos⁡( 𝜔_0 𝑡 + 𝜙_𝑘)) = 𝐴 \\, cos⁡( 𝜔_0 𝑡+𝜙) \\quad ...(2)\n",
    "$"
   ]
  },
  {
   "attachments": {},
   "cell_type": "markdown",
   "metadata": {},
   "source": [
    "3. \n",
    "$\n",
    "𝑥(𝑡)\n",
    "=𝐴_0 + ∑_{𝑘=1}^{𝑁} (𝐴_𝑘  cos⁡( 𝜔_𝑘 𝑡+𝜙_𝑘)) \\quad ...(3)\n",
    "$"
   ]
  },
  {
   "cell_type": "markdown",
   "metadata": {},
   "source": [
    "Let \n",
    "$\n",
    "\\omega_k = \\omega_0 \\times k = k \\omega_0\n",
    "$\n",
    "\n",
    "\n",
    "$\n",
    "(3) \n",
    "\\rightarrow\n",
    "𝑥(𝑡)\n",
    "= 𝐴_0 + ∑_{𝑘=1}^{𝑁} (𝐴_𝑘  cos⁡( k \\omega_0 𝑡+𝜙_𝑘))  \\quad ... (4)\n",
    "$"
   ]
  },
  {
   "attachments": {},
   "cell_type": "markdown",
   "metadata": {},
   "source": [
    "----\n"
   ]
  },
  {
   "cell_type": "code",
   "execution_count": null,
   "metadata": {},
   "outputs": [],
   "source": []
  }
 ],
 "metadata": {
  "kernelspec": {
   "display_name": "Python 3",
   "language": "python",
   "name": "python3"
  },
  "language_info": {
   "codemirror_mode": {
    "name": "ipython",
    "version": 3
   },
   "file_extension": ".py",
   "mimetype": "text/x-python",
   "name": "python",
   "nbconvert_exporter": "python",
   "pygments_lexer": "ipython3",
   "version": "3.6.5"
  }
 },
 "nbformat": 4,
 "nbformat_minor": 2
}
