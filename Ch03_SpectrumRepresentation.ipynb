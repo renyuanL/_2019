{
 "cells": [
  {
   "cell_type": "markdown",
   "metadata": {
    "colab_type": "text",
    "id": "view-in-github"
   },
   "source": [
    "<a \n",
    "href=   \"https://colab.research.google.com/github/renyuanL/_2019/blob/master/Ch03_SpectrumRepresentation.ipynb\" \n",
    "target= \"_parent\">\n",
    "\n",
    "<img src= \"https://colab.research.google.com/assets/colab-badge.svg\" \n",
    "alt=      \"Open In Colab\"/>\n",
    "\n",
    "</a>\n"
   ]
  },
  {
   "cell_type": "markdown",
   "metadata": {
    "colab_type": "text",
    "id": "FSjSy_VcKhuu"
   },
   "source": [
    "## Dsp 1st\n",
    "### Ch03  Spectrum Representation\n",
    "\n",
    "http://dspfirst.gatech.edu/database/?d=examples&chap=3"
   ]
  },
  {
   "cell_type": "markdown",
   "metadata": {
    "colab_type": "text",
    "id": "tz5Q8y4BKhuw"
   },
   "source": []
  },
  {
   "cell_type": "markdown",
   "metadata": {
    "colab_type": "text",
    "id": "DYaVrzxtKhuw"
   },
   "source": [
    "# Sum of sinusoids with 【the same frequency $\\omega_0$】 \n",
    "\n",
    "$\n",
    "𝑥(𝑡)= \\sum_{𝑘=1}^𝑁 𝐴_𝑘  cos⁡( \\omega_0 𝑡 + \\phi_𝑘)\n",
    "$\n",
    "\n",
    "----\n",
    "\n",
    "\n",
    "## Phasor Addition Rule\n",
    "\n",
    "----\n",
    "\n",
    "$\n",
    "𝑥(𝑡) = 𝐴_0  cos⁡( \\omega_0 𝑡 + \\phi_0)\n",
    "$\n",
    "\n",
    "----\n",
    "where,\n",
    "$\n",
    "\\begin{cases}\n",
    "X = \\sum_{𝑘=1}^𝑁 𝐴_𝑘  cos⁡(\\phi_𝑘)\n",
    "\\\\\n",
    "Y = \\sum_{𝑘=1}^𝑁 𝐴_𝑘  sin⁡(\\phi_𝑘)\n",
    "\\end{cases}\n",
    "$\n",
    "\n",
    "and then,\n",
    "$\n",
    "\\begin{cases}\n",
    "𝐴_0 = \\sqrt{X^2+Y^2}\n",
    "\\\\\n",
    "\\phi_0= arctan2(Y,X) = \n",
    "\\begin{cases} \n",
    "tan^{-1}(\\frac{Y}{X}) , \\quad & if X>0,   & \\phi_0 \\in (-\\pi/2, \\pi/2)\n",
    "\\\\\n",
    "tan^{-1}(\\frac{Y}{X}) -\\pi,   & if X<0, Y<0,   & \\phi_0 \\in (-\\pi, -\\pi/2)\n",
    "\\\\\n",
    "tan^{-1}(\\frac{Y}{X}) +\\pi,   & if X<0, Y>0,   & \\phi_0 \\in (\\pi/2, \\pi)\n",
    "\\end{cases}\n",
    "\\end{cases}\n",
    "$\n",
    "\n",
    "\n",
    "\n",
    "# Sum of sinusoids with 【different frequency, $\\omega_k$】 \n",
    "\n",
    "\n",
    "$$\n",
    "𝑥(𝑡)=\\sum_{𝑘=1}^𝑁 𝐴_𝑘  cos⁡( \\omega_𝑘 𝑡 + \\phi_𝑘)\n",
    "$$\n",
    "\n",
    "----\n",
    "\n",
    "## the Spectrum Representation\n",
    "\n",
    "\n",
    "$\\left[ [\\omega_𝑘, 𝐴_𝑘, \\phi_𝑘], \\quad k \\in [1,2,...,N] \\right]$ \n",
    "\n",
    "$\\left[ [\\omega_𝑘, (𝐴_𝑘, \\phi_𝑘)], \\quad k \\in [1,2,...,N] \\right]$ \n",
    "\n",
    "\n",
    "----"
   ]
  },
  {
   "cell_type": "markdown",
   "metadata": {
    "colab_type": "text",
    "id": "DYaVrzxtKhuw"
   },
   "source": [
    "### Ex 3-1\n",
    "\n",
    "Determine the Spectrum of the following signal,\n",
    "\n",
    "$\n",
    "x(t) = 10 + 14 cos(200 \\pi t - \\pi /3) + 8 cos(500 \\pi t + \\pi /2)\n",
    "$\n",
    "\n",
    "----\n",
    "\n",
    "#### [sol]\n",
    "\n",
    "\n",
    "$\n",
    "\\begin{array} {c|c}\n",
    "\\omega_k & (A_k, \\phi_k) \\\\\n",
    "\\hline\n",
    "  0     & (10,    0)  \\\\\n",
    "\\hline\n",
    "200 \\pi & (14, -\\pi/3)\\\\ \n",
    "\\hline\n",
    "500 \\pi & (8,   \\pi/2)\\\\   \n",
    "\\end{array}\n",
    "$\n",
    "\n",
    "Note that the 1st term:\n",
    "\n",
    "$ 10 = 10 \\, cos(0 t + 0) $\n",
    "\n",
    "----\n",
    "\n"
   ]
  },
  {
   "cell_type": "code",
   "execution_count": 1,
   "metadata": {},
   "outputs": [
    {
     "data": {
      "image/png": "[encoded data removed]",
      "text/plain": [
       "<Figure size 432x288 with 1 Axes>"
      ]
     },
     "metadata": {},
     "output_type": "display_data"
    }
   ],
   "source": [
    "import numpy as np\n",
    "import matplotlib.pyplot as plt\n",
    "%matplotlib inline\n",
    "π=   np.pi\n",
    "cos= np.cos\n",
    "\n",
    "# x(t) = 10 + 14 cos(200 \\pi t - \\pi /3) + 8 cos(500 \\pi t + \\pi /2)\n",
    "t= np.linspace(0, .1, 1001)\n",
    "x= 10 + 14 *cos(200 *π *t - π /3) + 8 *cos(500 *π *t + π /2)\n",
    "\n",
    "plt.plot(t,x)\n",
    "plt.grid(True)\n",
    "#plt.show()\n",
    "\n"
   ]
  },
  {
   "cell_type": "markdown",
   "metadata": {
    "colab_type": "text",
    "id": "H1yU5rx9LIrD"
   },
   "source": [
    "\n",
    "![](http://dspfirst.gatech.edu/archives/examDSP2v2e/exam3_1.png)\n",
    "\n",
    "\n",
    "\n",
    "\n",
    "\n"
   ]
  },
  {
   "cell_type": "markdown",
   "metadata": {
    "colab_type": "text",
    "id": "AQYdjuZcLPMe"
   },
   "source": [
    "\n"
   ]
  },
  {
   "cell_type": "markdown",
   "metadata": {
    "colab_type": "text",
    "id": "U6OBRa6aKhux"
   },
   "source": []
  },
  {
   "cell_type": "markdown",
   "metadata": {
    "colab_type": "text",
    "id": "lz0nIq0zKhux"
   },
   "source": []
  },
  {
   "cell_type": "code",
   "execution_count": null,
   "metadata": {
    "colab": {},
    "colab_type": "code",
    "id": "GfyYK9heKhuy"
   },
   "outputs": [],
   "source": []
  }
 ],
 "metadata": {
  "colab": {
   "include_colab_link": true,
   "name": "Ch03_SpectrumRepresentation.ipynb",
   "provenance": [],
   "version": "0.3.2"
  },
  "kernelspec": {
   "display_name": "Python 3",
   "language": "python",
   "name": "python3"
  },
  "language_info": {
   "codemirror_mode": {
    "name": "ipython",
    "version": 3
   },
   "file_extension": ".py",
   "mimetype": "text/x-python",
   "name": "python",
   "nbconvert_exporter": "python",
   "pygments_lexer": "ipython3",
   "version": "3.6.5"
  }
 },
 "nbformat": 4,
 "nbformat_minor": 1
}
