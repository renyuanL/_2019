{
  "nbformat": 4,
  "nbformat_minor": 0,
  "metadata": {
    "colab": {
      "name": "Ch03_SpectrumRepresentation.ipynb",
      "version": "0.3.2",
      "provenance": [],
      "include_colab_link": true
    },
    "kernelspec": {
      "display_name": "Python 3",
      "language": "python",
      "name": "python3"
    }
  },
  "cells": [
    {
      "cell_type": "markdown",
      "metadata": {
        "id": "view-in-github",
        "colab_type": "text"
      },
      "source": [
        "<a href=\"https://colab.research.google.com/github/renyuanL/_2019/blob/master/Ch03_SpectrumRepresentation.ipynb\" target=\"_parent\"><img src=\"https://colab.research.google.com/assets/colab-badge.svg\" alt=\"Open In Colab\"/></a>"
      ]
    },
    {
      "metadata": {
        "id": "FSjSy_VcKhuu",
        "colab_type": "text"
      },
      "cell_type": "markdown",
      "source": [
        "## Dsp 1st\n",
        "### Ch03  Spectrum Representation\n",
        "\n",
        "http://dspfirst.gatech.edu/database/?d=examples&chap=3"
      ]
    },
    {
      "metadata": {
        "id": "tz5Q8y4BKhuw",
        "colab_type": "text"
      },
      "cell_type": "markdown",
      "source": [
        ""
      ]
    },
    {
      "metadata": {
        "id": "DYaVrzxtKhuw",
        "colab_type": "text"
      },
      "cell_type": "markdown",
      "source": [
        "$$\n",
        "𝑥(𝑡)=\\sum_{𝑘=1}^𝑁 𝐴_𝑘  cos⁡( \\omega_0 𝑡 + \\phi_𝑘)\n",
        "$$\n",
        "\n",
        "----\n",
        "\n",
        "$\n",
        "𝑥(𝑡) = 𝐴_0  cos⁡( \\omega_0 𝑡 + \\phi_0)\n",
        "$\n",
        "\n",
        "----\n",
        "where,\n",
        "$\n",
        "\\begin{cases}\n",
        "X = \\sum_{𝑘=1}^𝑁 𝐴_𝑘  cos⁡(\\phi_𝑘)\n",
        "\\\\\n",
        "Y = \\sum_{𝑘=1}^𝑁 𝐴_𝑘  sin⁡(\\phi_𝑘)\n",
        "\\end{cases}\n",
        "$\n",
        "\n",
        "and then,\n",
        "$\n",
        "\\begin{cases}\n",
        "𝐴_0 = \\sqrt{X^2+Y^2}\n",
        "\\\\\n",
        "\\phi_0= arctan2(Y,X) = \n",
        "\\begin{cases} \n",
        "tan^{-1}(\\frac{Y}{X}) , \\quad & if X>0,   & \\phi_0 \\in (-\\pi/2, \\pi/2)\n",
        "\\\\\n",
        "tan^{-1}(\\frac{Y}{X}) -\\pi,   & if X<0, Y<0,   & \\phi_0 \\in (-\\pi, -\\pi/2)\n",
        "\\\\\n",
        "tan^{-1}(\\frac{Y}{X}) +\\pi,   & if X<0, Y>0,   & \\phi_0 \\in (\\pi/2, \\pi)\n",
        "\\end{cases}\n",
        "\\end{cases}\n",
        "$\n",
        "\n",
        "\n",
        "\n",
        "\n",
        "----\n",
        "\n",
        "$$\n",
        "𝑥(𝑡)=\\sum_{𝑘=1}^𝑁 𝐴_𝑘  cos⁡( \\omega_𝑘 𝑡 + \\phi_𝑘)\n",
        "$$\n",
        "\n",
        "----\n",
        "\n",
        "\n"
      ]
    },
    {
      "metadata": {
        "id": "H1yU5rx9LIrD",
        "colab_type": "text"
      },
      "cell_type": "markdown",
      "source": [
        "\n",
        "![](http://dspfirst.gatech.edu/archives/examDSP2v2e/exam3_1.png)\n",
        "\n",
        "\n",
        "\n",
        "\n",
        "\n"
      ]
    },
    {
      "metadata": {
        "id": "AQYdjuZcLPMe",
        "colab_type": "text"
      },
      "cell_type": "markdown",
      "source": [
        "\n"
      ]
    },
    {
      "metadata": {
        "id": "U6OBRa6aKhux",
        "colab_type": "text"
      },
      "cell_type": "markdown",
      "source": [
        ""
      ]
    },
    {
      "metadata": {
        "id": "lz0nIq0zKhux",
        "colab_type": "text"
      },
      "cell_type": "markdown",
      "source": [
        ""
      ]
    },
    {
      "metadata": {
        "id": "GfyYK9heKhuy",
        "colab_type": "code",
        "colab": {}
      },
      "cell_type": "code",
      "source": [
        ""
      ],
      "execution_count": 0,
      "outputs": []
    }
  ]
}